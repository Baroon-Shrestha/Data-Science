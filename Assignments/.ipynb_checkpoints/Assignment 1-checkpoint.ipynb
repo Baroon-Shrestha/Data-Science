{
 "cells": [
  {
   "cell_type": "code",
   "execution_count": 4,
   "id": "bf435ff4-9185-4f3c-8342-8b491e7c576e",
   "metadata": {},
   "outputs": [
    {
     "name": "stdout",
     "output_type": "stream",
     "text": [
      "{'name': 'David', 'age': 20, 'type': 'Dog'}\n"
     ]
    }
   ],
   "source": [
    "def Describe_pet(**kwargs):\n",
    "    return {k: v for k, v in kwargs.items()}\n",
    "\n",
    "print(Describe_pet(name=\"David\", age=20, type=\"Dog\"))\n"
   ]
  },
  {
   "cell_type": "code",
   "execution_count": 2,
   "id": "8c49393a-c25b-495d-8448-aedbe86ddeb3",
   "metadata": {},
   "outputs": [
    {
     "data": {
      "text/plain": [
       "1.4142135623730951"
      ]
     },
     "execution_count": 2,
     "metadata": {},
     "output_type": "execute_result"
    }
   ],
   "source": [
    "import math\n",
    "\n",
    "def standard_Deviation(lst):\n",
    "    mean = sum(lst) / len(lst)\n",
    "    variance = sum((n-mean)**2 for n in lst) / len(lst)\n",
    "\n",
    "    return math.sqrt(variance)\n",
    "    \n",
    "standard_Deviation((1,2,3,4,5))"
   ]
  },
  {
   "cell_type": "code",
   "execution_count": null,
   "id": "51610eb1-df99-4ede-9078-0412ea8b4bc4",
   "metadata": {},
   "outputs": [],
   "source": []
  }
 ],
 "metadata": {
  "kernelspec": {
   "display_name": "Python 3 (ipykernel)",
   "language": "python",
   "name": "python3"
  },
  "language_info": {
   "codemirror_mode": {
    "name": "ipython",
    "version": 3
   },
   "file_extension": ".py",
   "mimetype": "text/x-python",
   "name": "python",
   "nbconvert_exporter": "python",
   "pygments_lexer": "ipython3",
   "version": "3.12.5"
  }
 },
 "nbformat": 4,
 "nbformat_minor": 5
}
