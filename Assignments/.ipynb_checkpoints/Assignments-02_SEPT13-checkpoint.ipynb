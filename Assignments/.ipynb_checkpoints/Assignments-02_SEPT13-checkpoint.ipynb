{
 "cells": [
  {
   "cell_type": "markdown",
   "metadata": {},
   "source": [
    "### Coding Scenario: Personal Profile and Preferences\n",
    "\n",
    "**Objective:** You are tasked with creating a Python script to represent and process personal profile information and preferences. This scenario will test your knowledge of strings, integers, lists, tuples, dictionaries, and boolean data types in Python.\n",
    "\n",
    "#### Scenario Description:\n",
    "\n",
    "Imagine you are designing a simple profile for a social media application. Each user profile contains basic personal information, a list of favorite hobbies, preferred screen dimensions for viewing the app, and a brief description of their pet.\n"
   ]
  },
  {
   "cell_type": "markdown",
   "metadata": {},
   "source": [
    "\n",
    "#### Task Instructions:\n",
    "\n",
    "1. **Personal Information**\n",
    "   - Create a variable `name` (str) to store the user's name.\n",
    "   - Create a variable `age` (int) to store the user's age.\n",
    "   - Print a greeting message using these variables, e.g., `\"Hello, my name is Alice and I am 30 years old.\"`\n"
   ]
  },
  {
   "cell_type": "code",
   "execution_count": 277,
   "metadata": {},
   "outputs": [
    {
     "name": "stdin",
     "output_type": "stream",
     "text": [
      "enter your name :  baroon\n",
      "enter your age :  21\n"
     ]
    },
    {
     "data": {
      "text/plain": [
       "'Hello, my name is baroon and I am 21 years old.'"
      ]
     },
     "execution_count": 277,
     "metadata": {},
     "output_type": "execute_result"
    }
   ],
   "source": [
    "# Your Solution Here\n",
    "def greet(name,age):\n",
    "    return f\"Hello, my name is {name} and I am {age} years old.\"\n",
    "\n",
    "name = input(\"enter your name : \")\n",
    "age = int(input(\"enter your age : \"))\n",
    "greet(name,age)"
   ]
  },
  {
   "cell_type": "markdown",
   "metadata": {},
   "source": [
    "2. **Favorite Hobbies**\n",
    "   - Create a list `favorite_hobbies` containing at least three hobbies as strings.\n",
    "   - Add another hobby to this list and print the updated list."
   ]
  },
  {
   "cell_type": "code",
   "execution_count": 278,
   "metadata": {},
   "outputs": [
    {
     "name": "stdout",
     "output_type": "stream",
     "text": [
      "before appending new hobby ['reading', 'playing', 'Listening music']\n",
      "after appedning new hobby ['reading', 'playing', 'Listening music', 'Coding']\n"
     ]
    }
   ],
   "source": [
    "# Your Solution Here\n",
    "favorite_hobbies = [\"reading\",\"playing\",\"Listening music\"]\n",
    "print(f\"before appending new hobby {favorite_hobbies}\")\n",
    "\n",
    "favorite_hobbies.append(\"Coding\")\n",
    "print(f\"after appedning new hobby {favorite_hobbies}\")"
   ]
  },
  {
   "cell_type": "markdown",
   "metadata": {},
   "source": [
    "3. **Screen Dimensions**\n",
    "   - Define a tuple `screen_dimensions` with two integers representing the width and height of the user's preferred screen size for the app.\n",
    "   - Attempt to modify one of the values in the tuple to simulate an attempt to change screen preferences and comment on the outcome."
   ]
  },
  {
   "cell_type": "code",
   "execution_count": 279,
   "metadata": {},
   "outputs": [
    {
     "data": {
      "text/plain": [
       "'1200 X 1200'"
      ]
     },
     "execution_count": 279,
     "metadata": {},
     "output_type": "execute_result"
    }
   ],
   "source": [
    "# Your Solution Here\n",
    "def screen_dimension(width,height):\n",
    "    return f\"{width} X {height}\"\n",
    "\n",
    "screen_dimension(1200,1200)"
   ]
  },
  {
   "cell_type": "markdown",
   "metadata": {},
   "source": [
    "4. **Pet Description**\n",
    "   - Create a dictionary `pet` to describe the user's pet. It should include keys for `type`, `name`, `age`, and later, `color`.\n",
    "   - Add a `color` key to the `pet` dictionary with an appropriate value and print the pet's name and color."
   ]
  },
  {
   "cell_type": "code",
   "execution_count": 297,
   "metadata": {},
   "outputs": [
    {
     "name": "stdin",
     "output_type": "stream",
     "text": [
      "enter the color :  red\n"
     ]
    },
    {
     "data": {
      "text/plain": [
       "{'name': 'David', 'age': '1', 'type': 'stray dog', 'color': 'red'}"
      ]
     },
     "execution_count": 297,
     "metadata": {},
     "output_type": "execute_result"
    }
   ],
   "source": [
    "# Your Solution Here\n",
    "pets = {\n",
    "    \"name\" : \"David\",\n",
    "    \"age\" : \"1\",\n",
    "    \"type\" : \"stray dog\"\n",
    "}\n",
    "\n",
    "def add_color(pets, color):\n",
    "    pets['color'] = color\n",
    "\n",
    "\n",
    "col = input(\"enter the color : \")\n",
    "add_color(pets, col)\n",
    "pets"
   ]
  },
  {
   "cell_type": "markdown",
   "metadata": {},
   "source": [
    "5. **Adult Status**\n",
    "   - Determine if the user is an adult with a boolean variable `is_adult`. Consider someone an adult if they are 18 years old or more.\n",
    "   - Using conditional logic, print `\"I am an adult.\"` if true, and `\"I am not an adult.\"` if false.\n"
   ]
  },
  {
   "cell_type": "code",
   "execution_count": 282,
   "metadata": {},
   "outputs": [
    {
     "data": {
      "text/plain": [
       "'I am not an adult'"
      ]
     },
     "execution_count": 282,
     "metadata": {},
     "output_type": "execute_result"
    }
   ],
   "source": [
    "# Your Solution Here\n",
    "def is_adult(age = 20):\n",
    "    if age >= 18:\n",
    "        return f\"I am an adult\"\n",
    "\n",
    "    return f\"I am not an adult\"\n",
    "\n",
    "is_adult(2)"
   ]
  },
  {
   "cell_type": "markdown",
   "metadata": {},
   "source": [
    "### Question : Book Keeper\n",
    "\n",
    "Following the data below , complete the given Tasks :"
   ]
  },
  {
   "cell_type": "code",
   "execution_count": 283,
   "metadata": {},
   "outputs": [],
   "source": [
    "# A list of tuples, where each tuple contains information about a book: (title, genre, year_published, times_borrowed).\n",
    "books = [\n",
    "    (\"The Alchemist\", \"Fiction\", 1988, 250),\n",
    "    (\"The Da Vinci Code\", \"Mystery\", 2003, 300),\n",
    "    (\"A Brief History of Time\", \"Science\", 1988, 150),\n",
    "    (\"The Theory of Everything\", \"Science\", 2002, 100),\n",
    "    (\"Pride and Prejudice\", \"Fiction\", 1813, 200),\n",
    "    (\"To Kill a Mockingbird\", \"Fiction\", 1960, 180),\n",
    "    (\"The Catcher in the Rye\", \"Fiction\", 1951, 220),\n",
    "    (\"Angels & Demons\", \"Mystery\", 2000, 210),\n",
    "    (\"The Grand Design\", \"Science\", 2010, 90),\n",
    "    (\"1984\", \"Fiction\", 1949, 190)\n",
    "]"
   ]
  },
  {
   "cell_type": "markdown",
   "metadata": {},
   "source": [
    "**Task 01**: Create a Book Filtering Function\n",
    "\n",
    "Given the list books as shown below, write a Python function named `filter_books` that filters books based on *genre* and *publication year*. The function should take two parameters: `genre (a string)` and `year (an integer)`. It should return a list of book titles that match the given genre and have been **published on or after** the specified year.\n",
    "\n",
    "- Example usage : `print(filter_books(\"Fiction\", 1980))`\n",
    "- Expected output: `['The Alchemist', 'The Catcher in the Rye']`\n",
    "\n",
    "*Try to use List Comprehension with If condition*"
   ]
  },
  {
   "cell_type": "code",
   "execution_count": 284,
   "metadata": {},
   "outputs": [],
   "source": [
    "# Your Solution Here\n",
    "def Filter_books(input_genre, input_year):\n",
    "    filered = [title for title,genre, year, borrowed_times in books\n",
    "               if genre == input_genre and year >= input_year]\n",
    "\n",
    "    return filered"
   ]
  },
  {
   "cell_type": "code",
   "execution_count": 285,
   "metadata": {},
   "outputs": [
    {
     "name": "stdout",
     "output_type": "stream",
     "text": [
      "['A Brief History of Time', 'The Theory of Everything', 'The Grand Design']\n"
     ]
    }
   ],
   "source": [
    "print(Filter_books(\"Science\", 1984))"
   ]
  },
  {
   "cell_type": "markdown",
   "metadata": {},
   "source": [
    "**Task 02** : Write a Python function named `borrowing_stats` that uses dictionary comprehension to create and return a dictionary. This dictionary should map each book's title to the number of times it has been borrowed, but only include books from the \"`Fiction`\" genre.\n",
    "\n",
    "\n",
    "- Example usage : `print(borrowing_stats(books))`\n",
    "- Expected output: `{'The Alchemist': 250, 'Pride and Prejudice': 200, 'To Kill a Mockingbird': 180, 'The Catcher in the Rye': 220, '1984': 190}`"
   ]
  },
  {
   "cell_type": "code",
   "execution_count": 286,
   "metadata": {},
   "outputs": [],
   "source": [
    "# Your Solution Here\n",
    "\n",
    "def borrowing_stats(input_genre):\n",
    "    borrowed_stats = {title : borrow\n",
    "                      for title,genre,year,borrow in books\n",
    "                      if genre == input_genre\n",
    "                     }\n",
    "\n",
    "    return borrowed_stats"
   ]
  },
  {
   "cell_type": "code",
   "execution_count": 287,
   "metadata": {},
   "outputs": [
    {
     "data": {
      "text/plain": [
       "{'The Alchemist': 250,\n",
       " 'Pride and Prejudice': 200,\n",
       " 'To Kill a Mockingbird': 180,\n",
       " 'The Catcher in the Rye': 220,\n",
       " '1984': 190}"
      ]
     },
     "execution_count": 287,
     "metadata": {},
     "output_type": "execute_result"
    }
   ],
   "source": [
    "borrowing_stats(\"Fiction\")"
   ]
  },
  {
   "cell_type": "markdown",
   "metadata": {},
   "source": [
    "**Task 03** : Write a Python program that uses a lambda expression to sort this list by publication year in ascending order. Print the sorted list of books.\n",
    "\n",
    "*Try using a lambda expression with the sorted() function*"
   ]
  },
  {
   "cell_type": "code",
   "execution_count": 288,
   "metadata": {},
   "outputs": [
    {
     "name": "stdout",
     "output_type": "stream",
     "text": [
      "[('Pride and Prejudice', 'Fiction', 1813, 200), ('1984', 'Fiction', 1949, 190), ('The Catcher in the Rye', 'Fiction', 1951, 220), ('To Kill a Mockingbird', 'Fiction', 1960, 180), ('The Alchemist', 'Fiction', 1988, 250), ('A Brief History of Time', 'Science', 1988, 150), ('Angels & Demons', 'Mystery', 2000, 210), ('The Theory of Everything', 'Science', 2002, 100), ('The Da Vinci Code', 'Mystery', 2003, 300), ('The Grand Design', 'Science', 2010, 90)]\n"
     ]
    }
   ],
   "source": [
    "# Your Solution Here\n",
    "\n",
    "sorted_books = sorted(books, key=lambda book: book[2])\n",
    "\n",
    "print(sorted_books)"
   ]
  },
  {
   "cell_type": "markdown",
   "metadata": {},
   "source": [
    "### Question: File Read and Write\n",
    "**Write a Program that Uses Functions `write_to_file` and `read_from_file`**:\n",
    "- `write_to_file(filename, content)`: Writes `content` to a file named `filename`. If the file doesn't exist, it should be created.\n",
    "- `read_from_file(filename)`: Reads and prints the content of a file named `filename`.\n",
    "Call `write_to_file` to write \"Hello, Python!\" to a file named \"greetings.txt\", then call `read_from_file` to read and print the content of this file."
   ]
  },
  {
   "cell_type": "code",
   "execution_count": 302,
   "metadata": {},
   "outputs": [],
   "source": [
    "# Your Solution Here\n",
    "f = open(\"index.txt\", \"a\")\n",
    "f.write(\"Hello world!, this is a new file written using File handling in python\")\n",
    "f.close()"
   ]
  },
  {
   "cell_type": "code",
   "execution_count": 306,
   "metadata": {},
   "outputs": [
    {
     "name": "stdout",
     "output_type": "stream",
     "text": [
      "Hello world!, this is a new file written using File handling in python\n"
     ]
    }
   ],
   "source": [
    "f2 = open(\"index.txt\",\"r\")\n",
    "print(f2.read())"
   ]
  },
  {
   "cell_type": "markdown",
   "metadata": {},
   "source": [
    "### Scenario:\n",
    "\n",
    "You are tasked with designing a system for a **vehicle rental company**. The company rents out various types of vehicles like **Cars** and **Bikes**, and each vehicle has some shared characteristics but also some distinct ones. \n",
    "\n",
    "### Requirements:\n",
    "1. Each **Vehicle** has attributes such as:\n",
    "   - `vehicle_id`: A unique identifier for the vehicle.\n",
    "   - `brand`: The brand of the vehicle.\n",
    "   - `rental_price`: Price per day to rent the vehicle.\n",
    "\n",
    "2. Both **Car** and **Bike** are types of **Vehicles**.  \n",
    "   - A **Car** has an additional attribute: `number_of_doors`.  \n",
    "   - A **Bike** has an additional attribute: `bike_type` (e.g., mountain bike, racing bike).\n",
    "\n",
    "3. You should provide methods to:\n",
    "   - **Calculate total rental cost**: Given the number of rental days, calculate the total cost for any vehicle.\n",
    "   - **Display vehicle details**: For both cars and bikes, display details including the unique attributes (e.g., `number_of_doors` for cars, `bike_type` for bikes).\n",
    "\n",
    "4. Implement the following OOP concepts:\n",
    "   - **Encapsulation**: Ensure that all vehicle attributes are private and can only be accessed or modified through getter/setter methods.\n",
    "   - **Abstraction**: Provide a clean interface for calculating the total rental cost and displaying vehicle details, hiding the internal logic.\n",
    "   - **Inheritance**: Both **Car** and **Bike** should inherit common functionality from the **Vehicle** class.\n",
    "   - **Polymorphism**: Use method overriding so that the method for displaying vehicle details works differently for cars and bikes.\n",
    "\n",
    "---\n",
    "\n",
    "### Task:\n",
    "\n",
    "1. **Define a `Vehicle` base class** that implements the common attributes and methods.\n",
    "2. **Define two subclasses `Car` and `Bike`** that inherit from `Vehicle` and implement their specific attributes.\n",
    "3. Use encapsulation by making attributes private and providing public methods to interact with them.\n",
    "4. Use polymorphism to create a `display_details` method that behaves differently for `Car` and `Bike`.\n",
    "\n",
    "---\n",
    "\n",
    "### Bonus:\n",
    "After completing the classes, create an example script that:\n",
    "- Creates a list of vehicles (a mix of Cars and Bikes).\n",
    "- Displays the details of each vehicle.\n",
    "- Calculates and prints the total rental cost for a given number of days for each vehicle.\n"
   ]
  },
  {
   "cell_type": "code",
   "execution_count": 274,
   "metadata": {},
   "outputs": [],
   "source": [
    "# Your Soloution Here\n",
    "from abc import ABC,abstractmethod\n",
    "\n",
    "class Vehicle(ABC):\n",
    "    def __init__(self, brand, vehicle_Id, rental_price):\n",
    "        self.__brand = brand\n",
    "        self.__vehicle_Id = vehicle_Id\n",
    "        self.__rental_price = rental_price\n",
    "\n",
    "    def get_brand(self):\n",
    "        return self.__brand\n",
    "\n",
    "    def get_name(self):\n",
    "        return self.__vehicle_Id\n",
    "        \n",
    "    def get_rent(self):\n",
    "        return self.__rental_price\n",
    "\n",
    "\n",
    "    def get_total_rent(self, rental_days):\n",
    "        return self.__rental_price * rental_days\n",
    "\n",
    "    @abstractmethod\n",
    "    def show_details(self):\n",
    "        pass"
   ]
  },
  {
   "cell_type": "code",
   "execution_count": 275,
   "metadata": {},
   "outputs": [
    {
     "name": "stdout",
     "output_type": "stream",
     "text": [
      "brand of vechile is toyota\n",
      "vehicle name is abc\n",
      "rent for a day is 50\n",
      "totla rent is 500\n"
     ]
    }
   ],
   "source": [
    "class Car(Vehicle):\n",
    "    def __init__(self,brand,vehicle_Id, rental_price, num_of_seats):\n",
    "        super().__init__(brand,vehicle_Id, rental_price)\n",
    "        self.__num_of_seats = num_of_seats\n",
    "\n",
    "    def set_num_of_seats(self, num_of_seats):\n",
    "        __num_of_seats == num_of_seats\n",
    "\n",
    "    def get_num_of_seats(self):\n",
    "        return self.__num_of_seats\n",
    "\n",
    "    def show_details(self):\n",
    "        print(f\"brand of vechile is {self.get_brand()}\")\n",
    "        print(f\"vehicle name is {self.get_name()}\")\n",
    "        print(f\"rent for a day is {self.get_rent()}\")\n",
    "\n",
    "car = Car(\"toyota\", \"abc\", 50, 4)\n",
    "\n",
    "car.show_details()\n",
    "total_rent = car.get_total_rent(10)\n",
    "print(f\"totla rent is {total_rent}\")"
   ]
  },
  {
   "cell_type": "code",
   "execution_count": 276,
   "metadata": {},
   "outputs": [
    {
     "name": "stdout",
     "output_type": "stream",
     "text": [
      "brand of vechile is GTA\n",
      "vehicle name is 123\n",
      "bike type is MTB\n",
      "rent for a day is 20\n",
      "total rent is 200\n"
     ]
    }
   ],
   "source": [
    "class Bike(Vehicle):\n",
    "    def __init__(self,brand,vehicle_Id, rental_price, bike_type):\n",
    "        super().__init__(brand,vehicle_Id, rental_price)\n",
    "        self.__bike_type = bike_type\n",
    "\n",
    "    def set_bike_type(self, bike_type):\n",
    "        self.__bike_type = bike_type\n",
    "\n",
    "    def get_bike_type(self):\n",
    "        return self.__bike_type\n",
    "\n",
    "    def show_details(self):\n",
    "        print(f\"brand of vechile is {self.get_brand()}\")\n",
    "        print(f\"vehicle name is {self.get_name()}\")\n",
    "        print(f\"bike type is {self.get_bike_type()}\")\n",
    "        print(f\"rent for a day is {self.get_rent()}\")\n",
    "\n",
    "bike = Bike(\"GTA\",\"123\", 20, \"MTB\")\n",
    "bike.show_details()\n",
    "total = bike.get_total_rent(10)\n",
    "print(f\"total rent is {total}\")"
   ]
  },
  {
   "cell_type": "code",
   "execution_count": null,
   "metadata": {},
   "outputs": [],
   "source": []
  }
 ],
 "metadata": {
  "kernelspec": {
   "display_name": "Python 3 (ipykernel)",
   "language": "python",
   "name": "python3"
  },
  "language_info": {
   "codemirror_mode": {
    "name": "ipython",
    "version": 3
   },
   "file_extension": ".py",
   "mimetype": "text/x-python",
   "name": "python",
   "nbconvert_exporter": "python",
   "pygments_lexer": "ipython3",
   "version": "3.12.5"
  }
 },
 "nbformat": 4,
 "nbformat_minor": 4
}
