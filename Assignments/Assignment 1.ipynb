{
 "cells": [
  {
   "cell_type": "code",
   "execution_count": 8,
   "id": "bf435ff4-9185-4f3c-8342-8b491e7c576e",
   "metadata": {},
   "outputs": [],
   "source": [
    "def Describe_pet(**kwargs):\n",
    "    \"\"\"\n",
    "    takes any number of keywords\n",
    "\n",
    "    kwargs : only dict type\n",
    "\n",
    "    return the data in key value pairs as in dictionary\n",
    "    \"\"\"\n",
    "    return {key :value for key, value in kwargs.items()}"
   ]
  },
  {
   "cell_type": "code",
   "execution_count": 9,
   "id": "f4b62e53-ff13-46b1-981f-80dd58b60edc",
   "metadata": {},
   "outputs": [
    {
     "data": {
      "text/plain": [
       "{'name': 'David', 'age': 20, 'type': 'Dog'}"
      ]
     },
     "execution_count": 9,
     "metadata": {},
     "output_type": "execute_result"
    }
   ],
   "source": [
    "Describe_pet(name=\"David\", age=20, type=\"Dog\")"
   ]
  },
  {
   "cell_type": "code",
   "execution_count": 13,
   "id": "8c49393a-c25b-495d-8448-aedbe86ddeb3",
   "metadata": {},
   "outputs": [],
   "source": [
    "import math\n",
    "\n",
    "def standard_Deviation(lst):\n",
    "    \"\"\"\n",
    "    takes interable data as an input\n",
    "\n",
    "    lst : list or iterable integers\n",
    "\n",
    "    return the standard deivation of the given list\n",
    "    \"\"\"\n",
    "    mean = sum(lst) / len(lst)\n",
    "    variance = sum((n-mean)**2 for n in lst) / len(lst)\n",
    "\n",
    "    return math.sqrt(variance)\n"
   ]
  },
  {
   "cell_type": "code",
   "execution_count": 14,
   "id": "51610eb1-df99-4ede-9078-0412ea8b4bc4",
   "metadata": {},
   "outputs": [
    {
     "data": {
      "text/plain": [
       "1.4142135623730951"
      ]
     },
     "execution_count": 14,
     "metadata": {},
     "output_type": "execute_result"
    }
   ],
   "source": [
    "standard_Deviation((1,2,3,4,5))"
   ]
  },
  {
   "cell_type": "code",
   "execution_count": null,
   "id": "29186b4b-fcd8-46e1-957f-358755798aec",
   "metadata": {},
   "outputs": [],
   "source": []
  }
 ],
 "metadata": {
  "kernelspec": {
   "display_name": "Python 3 (ipykernel)",
   "language": "python",
   "name": "python3"
  },
  "language_info": {
   "codemirror_mode": {
    "name": "ipython",
    "version": 3
   },
   "file_extension": ".py",
   "mimetype": "text/x-python",
   "name": "python",
   "nbconvert_exporter": "python",
   "pygments_lexer": "ipython3",
   "version": "3.12.5"
  }
 },
 "nbformat": 4,
 "nbformat_minor": 5
}
