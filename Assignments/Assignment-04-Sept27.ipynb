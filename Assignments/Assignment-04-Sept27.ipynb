{
 "cells": [
  {
   "cell_type": "markdown",
   "metadata": {},
   "source": [
    "### **Assignment: Introduction to Linear Algebra and NumPy**\n",
    "\n",
    "#### **Objective:**\n",
    "This assignment will help you build a solid understanding of basic Linear Algebra concepts using Python and the NumPy library. You'll learn to create and manipulate arrays, perform mathematical operations, and explore properties and methods of arrays."
   ]
  },
  {
   "cell_type": "markdown",
   "metadata": {},
   "source": [
    "\n",
    "### **Working with NumPy**\n",
    "\n",
    "NumPy is a powerful Python library for numerical computations, which allows easy manipulation of arrays and matrices."
   ]
  },
  {
   "cell_type": "markdown",
   "metadata": {},
   "source": [
    "**Task 1:** \n",
    "- Import the `numpy` library and check its version.\n"
   ]
  },
  {
   "cell_type": "code",
   "execution_count": null,
   "metadata": {},
   "outputs": [
    {
     "name": "stdout",
     "output_type": "stream",
     "text": [
      "2.1.1\n"
     ]
    }
   ],
   "source": [
    "import numpy as np\n",
    "print(np.__version__)"
   ]
  },
  {
   "cell_type": "markdown",
   "metadata": {},
   "source": [
    "\n",
    "### **Creating a NumPy Array:**\n",
    "\n",
    "NumPy arrays are a powerful way to store and process large datasets. In this section, you will learn to create arrays.\n",
    "\n",
    "**Task 2:**\n",
    "- Create a 1D NumPy array from a Python list of numbers: `[1, 2, 3, 4, 5]`.\n",
    "- Create a 2D NumPy array of shape (3x3) using the numbers from 1 to 9.\n",
    "- Generate an array of 10 evenly spaced values between 0 and 5."
   ]
  },
  {
   "cell_type": "code",
   "execution_count": 131,
   "metadata": {},
   "outputs": [
    {
     "data": {
      "text/plain": [
       "array([1, 2, 3, 4, 5])"
      ]
     },
     "execution_count": 131,
     "metadata": {},
     "output_type": "execute_result"
    }
   ],
   "source": [
    "# Solution Here\n",
    "arr = [1,2,3,4,5]\n",
    "list_of_numbers = np.array(arr)\n",
    "list_of_numbers"
   ]
  },
  {
   "cell_type": "code",
   "execution_count": 132,
   "metadata": {},
   "outputs": [
    {
     "data": {
      "text/plain": [
       "array([[[4, 4, 2],\n",
       "        [5, 7, 6],\n",
       "        [8, 3, 8]],\n",
       "\n",
       "       [[3, 6, 5],\n",
       "        [1, 8, 5],\n",
       "        [1, 5, 7]]])"
      ]
     },
     "execution_count": 132,
     "metadata": {},
     "output_type": "execute_result"
    }
   ],
   "source": [
    "arr1 = np.random.randint(low=1, high= 9,size=(3,3))\n",
    "arr2 = np.random.randint(low=1, high= 9,size=(3,3))\n",
    "\n",
    "d_arr = np.array((arr1,arr2))\n",
    "d_arr"
   ]
  },
  {
   "cell_type": "code",
   "execution_count": 133,
   "metadata": {},
   "outputs": [
    {
     "name": "stdout",
     "output_type": "stream",
     "text": [
      "[0.         0.55555556 1.11111111 1.66666667 2.22222222 2.77777778\n",
      " 3.33333333 3.88888889 4.44444444 5.        ]\n"
     ]
    }
   ],
   "source": [
    "print(np.linspace(0,5,10))"
   ]
  },
  {
   "cell_type": "markdown",
   "metadata": {},
   "source": [
    "### **Indexing and Slicing Arrays:**\n",
    "\n",
    "Indexing and slicing allow you to access and modify specific elements of an array.\n",
    "\n",
    "**Task 3:**\n",
    "- Access the element in the second row, third column of the 2D array you created above.\n",
    "- Slice the first two rows and the first two columns from the same array.\n",
    "- Modify the value in the last row and first column to 100.\n"
   ]
  },
  {
   "cell_type": "code",
   "execution_count": 134,
   "metadata": {},
   "outputs": [
    {
     "name": "stdout",
     "output_type": "stream",
     "text": [
      "[[[4 4 2]\n",
      "  [5 7 6]\n",
      "  [8 3 8]]\n",
      "\n",
      " [[3 6 5]\n",
      "  [1 8 5]\n",
      "  [1 5 7]]]\n",
      "6\n",
      "5\n"
     ]
    }
   ],
   "source": [
    "# Solution Here\n",
    "print(d_arr)\n",
    "\n",
    "el1 = d_arr[0][1][2]\n",
    "\n",
    "el2 = d_arr[1][1][2]\n",
    "\n",
    "print(el1)\n",
    "print(el2)"
   ]
  },
  {
   "cell_type": "code",
   "execution_count": 135,
   "metadata": {},
   "outputs": [
    {
     "name": "stdout",
     "output_type": "stream",
     "text": [
      "[[[4 4 2]\n",
      "  [5 7 6]\n",
      "  [8 3 8]]\n",
      "\n",
      " [[3 6 5]\n",
      "  [1 8 5]\n",
      "  [1 5 7]]]\n",
      "\n",
      "\n",
      "[[[4 4]\n",
      "  [5 7]]\n",
      "\n",
      " [[3 6]\n",
      "  [1 8]]]\n"
     ]
    }
   ],
   "source": [
    "print(d_arr)\n",
    "print(\"\\n\")\n",
    "sliced_arr = d_arr[:,:2,:2]\n",
    "print(sliced_arr)"
   ]
  },
  {
   "cell_type": "code",
   "execution_count": 136,
   "metadata": {},
   "outputs": [
    {
     "name": "stdout",
     "output_type": "stream",
     "text": [
      "[[[4 4 2]\n",
      "  [5 7 6]\n",
      "  [8 3 8]]\n",
      "\n",
      " [[3 6 5]\n",
      "  [1 8 5]\n",
      "  [1 5 7]]]\n",
      "\n",
      "\n",
      "[[[100 100 100]\n",
      "  [  5   7   6]\n",
      "  [  8   3   8]]\n",
      "\n",
      " [[100   6   5]\n",
      "  [  1   8   5]\n",
      "  [  1   5   7]]]\n"
     ]
    }
   ],
   "source": [
    "print(d_arr)\n",
    "print(\"\\n\")\n",
    "new_arr = d_arr.copy()\n",
    "new_arr2 = new_arr[0][0][:] = [100,100,100]\n",
    "\n",
    "new_arr[:, 0, 0] = 100\n",
    "print(new_arr)"
   ]
  },
  {
   "cell_type": "markdown",
   "metadata": {},
   "source": [
    "### **Properties and Methods of NumPy Arrays**\n",
    "\n",
    "NumPy arrays have several useful properties and methods.\n",
    "\n",
    "**Task 4:**\n",
    "- Find the shape, size, and data type of the 2D array.\n",
    "- Change the 1D array into a 2D array of shape (5,1).\n",
    "- Flatten a multi-dimensional array back into a 1D array."
   ]
  },
  {
   "cell_type": "code",
   "execution_count": 141,
   "metadata": {},
   "outputs": [
    {
     "name": "stdout",
     "output_type": "stream",
     "text": [
      "size of arr1 is 9\n",
      "shape of arr1 is (3, 3)\n",
      "shape of arr1 is int64\n"
     ]
    }
   ],
   "source": [
    "# Solution Here\n",
    "print(f\"size of arr1 is {arr1.size}\")\n",
    "print(f\"shape of arr1 is {arr1.shape}\")\n",
    "print(f\"shape of arr1 is {arr1.dtype}\")"
   ]
  },
  {
   "cell_type": "code",
   "execution_count": null,
   "metadata": {},
   "outputs": [
    {
     "data": {
      "text/plain": [
       "array([[1],\n",
       "       [2],\n",
       "       [3],\n",
       "       [4],\n",
       "       [5],\n",
       "       [6]])"
      ]
     },
     "execution_count": 154,
     "metadata": {},
     "output_type": "execute_result"
    }
   ],
   "source": [
    "# re_shaped_arr = arr.reshape(5,1)\n",
    "\n",
    "a = [1,2,3,4,5,6]\n",
    "new_arr = np.array(a)\n",
    "new_arr.reshape(6,1)"
   ]
  },
  {
   "cell_type": "code",
   "execution_count": 161,
   "metadata": {},
   "outputs": [
    {
     "name": "stdout",
     "output_type": "stream",
     "text": [
      "[[[4 4 2]\n",
      "  [5 7 6]\n",
      "  [8 3 8]]\n",
      "\n",
      " [[3 6 5]\n",
      "  [1 8 5]\n",
      "  [1 5 7]]]\n",
      "\n",
      "\n"
     ]
    },
    {
     "data": {
      "text/plain": [
       "array([4, 4, 2, 5, 7, 6, 8, 3, 8, 3, 6, 5, 1, 8, 5, 1, 5, 7])"
      ]
     },
     "execution_count": 161,
     "metadata": {},
     "output_type": "execute_result"
    }
   ],
   "source": [
    "print(d_arr)\n",
    "\n",
    "flatten_arr = d_arr.flatten()\n",
    "print(\"\\n\")\n",
    "flatten_arr"
   ]
  },
  {
   "cell_type": "markdown",
   "metadata": {},
   "source": [
    "### **Operations on NumPy Arrays**\n",
    "\n",
    "Perform operations such as addition, subtraction, multiplication, and matrix multiplication on arrays.\n",
    "\n",
    "**Task 5:**\n",
    "- Add 5 to every element in the 1D array.\n",
    "- Multiply the 2D array by 3.\n",
    "- Perform matrix multiplication between the following two arrays:  \n",
    "    ```python\n",
    "    A = np.array([[1, 2], [3, 4]])\n",
    "    B = np.array([[5, 6], [7, 8]])"
   ]
  },
  {
   "cell_type": "code",
   "execution_count": 36,
   "metadata": {},
   "outputs": [
    {
     "name": "stdout",
     "output_type": "stream",
     "text": [
      "[[8 6 3]\n",
      " [8 5 3]\n",
      " [5 2 8]]\n",
      "\n",
      "\n",
      "[[13 11  8]\n",
      " [13 10  8]\n",
      " [10  7 13]]\n"
     ]
    }
   ],
   "source": [
    "# Solution Here\n",
    "print(arr1)\n",
    "print(\"\\n\")\n",
    "print(arr1 + 5)"
   ]
  },
  {
   "cell_type": "code",
   "execution_count": 39,
   "metadata": {},
   "outputs": [
    {
     "name": "stdout",
     "output_type": "stream",
     "text": [
      "[[6 4 3]\n",
      " [3 1 8]\n",
      " [4 1 7]]\n",
      "\n",
      "\n",
      "[[18 12  9]\n",
      " [ 9  3 24]\n",
      " [12  3 21]]\n"
     ]
    }
   ],
   "source": [
    "print(arr2)\n",
    "print(\"\\n\")\n",
    "print(arr2 * 3)"
   ]
  },
  {
   "cell_type": "code",
   "execution_count": 48,
   "metadata": {},
   "outputs": [
    {
     "name": "stdout",
     "output_type": "stream",
     "text": [
      "[[1 2]\n",
      " [3 4]]\n",
      "\n",
      "\n",
      "[[5 6]\n",
      " [7 8]]\n",
      "\n",
      "\n",
      "[[ 5 12]\n",
      " [21 32]]\n"
     ]
    }
   ],
   "source": [
    "A = np.array([[1, 2], [3, 4]])\n",
    "B = np.array([[5, 6], [7, 8]])\n",
    "mul_arr = A * B\n",
    "print(A)\n",
    "print(\"\\n\")\n",
    "print(B)\n",
    "print(\"\\n\")\n",
    "print(mul_arr)"
   ]
  },
  {
   "cell_type": "markdown",
   "metadata": {},
   "source": [
    "### **Understanding Broadcasting**\n",
    "\n",
    "Broadcasting allows NumPy to work with arrays of different shapes during arithmetic operations.\n",
    "\n",
    "**Task 6:**\n",
    "- Create a 3x3 matrix of ones and a 1D array of length 3.\n",
    "- Add the 1D array to each row of the matrix using broadcasting."
   ]
  },
  {
   "cell_type": "code",
   "execution_count": null,
   "metadata": {},
   "outputs": [],
   "source": [
    "# Solution Here\n"
   ]
  }
 ],
 "metadata": {
  "kernelspec": {
   "display_name": "Python 3 (ipykernel)",
   "language": "python",
   "name": "python3"
  },
  "language_info": {
   "codemirror_mode": {
    "name": "ipython",
    "version": 3
   },
   "file_extension": ".py",
   "mimetype": "text/x-python",
   "name": "python",
   "nbconvert_exporter": "python",
   "pygments_lexer": "ipython3",
   "version": "3.12.5"
  }
 },
 "nbformat": 4,
 "nbformat_minor": 4
}
