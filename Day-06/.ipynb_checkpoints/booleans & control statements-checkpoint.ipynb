{
 "cells": [
  {
   "cell_type": "code",
   "execution_count": 3,
   "id": "30a9b668-eb13-4208-b492-259d706b37e1",
   "metadata": {},
   "outputs": [],
   "source": [
    "tuple = (1)"
   ]
  },
  {
   "cell_type": "code",
   "execution_count": 4,
   "id": "c57c49d4-c87c-45c7-ae0b-364c91c6481c",
   "metadata": {},
   "outputs": [
    {
     "data": {
      "text/plain": [
       "True"
      ]
     },
     "execution_count": 4,
     "metadata": {},
     "output_type": "execute_result"
    }
   ],
   "source": [
    "bool(tuple)"
   ]
  },
  {
   "cell_type": "code",
   "execution_count": 9,
   "id": "b75d2a78-6ff8-4240-974d-6a604246c2ac",
   "metadata": {},
   "outputs": [],
   "source": [
    "x = 1."
   ]
  },
  {
   "cell_type": "code",
   "execution_count": 10,
   "id": "421d1342-684b-41ff-b5b0-9ced6f99676c",
   "metadata": {},
   "outputs": [
    {
     "data": {
      "text/plain": [
       "True"
      ]
     },
     "execution_count": 10,
     "metadata": {},
     "output_type": "execute_result"
    }
   ],
   "source": [
    "bool(x)"
   ]
  },
  {
   "cell_type": "code",
   "execution_count": 14,
   "id": "29bcb138-04bc-423a-8b17-28bc8daf6ecc",
   "metadata": {},
   "outputs": [],
   "source": [
    "x = 1\n",
    "y=-1\n",
    "\n",
    "if x > 0 and y > 0:\n",
    "    print(\"positive numver\")\n"
   ]
  },
  {
   "cell_type": "code",
   "execution_count": 15,
   "id": "97ad82b5-f909-4c35-a382-8cd53ccd07eb",
   "metadata": {},
   "outputs": [
    {
     "name": "stdout",
     "output_type": "stream",
     "text": [
      "the number is even\n"
     ]
    }
   ],
   "source": [
    "x = 10\n",
    "\n",
    "if x % 2 == 0:\n",
    "    print(\"the number is even\")\n",
    "else:\n",
    "    print(\"the number is odd\")"
   ]
  },
  {
   "cell_type": "code",
   "execution_count": 19,
   "id": "64d764d3-c72a-446a-a033-454d707b4eb4",
   "metadata": {},
   "outputs": [
    {
     "name": "stdout",
     "output_type": "stream",
     "text": [
      "grade A\n"
     ]
    }
   ],
   "source": [
    "marks = 90\n",
    "\n",
    "\n",
    "if marks < 100 and marks >= 80:\n",
    "    print(\"grade A\")\n",
    "elif marks <= 80 and marks >= 60:\n",
    "    print(\"grade B\")\n",
    "elif marks <= 60 and marks >= 40:\n",
    "    print(\"grade C\")\n",
    "else:\n",
    "    print(\"grade D\")"
   ]
  },
  {
   "cell_type": "code",
   "execution_count": 38,
   "id": "940f7575-5532-41ac-988b-0bdee38c9657",
   "metadata": {},
   "outputs": [
    {
     "name": "stdout",
     "output_type": "stream",
     "text": [
      "*  \n",
      "\n",
      "*  *  \n",
      "\n",
      "*  *  *  \n",
      "\n",
      "*  *  *  *  \n",
      "\n",
      "*  *  *  *  *  \n",
      "\n"
     ]
    }
   ],
   "source": [
    "for i in range(5):\n",
    "    for j in range(i+1):\n",
    "        print(\"*  \",end='')\n",
    "    print(\"\\n\")"
   ]
  },
  {
   "cell_type": "code",
   "execution_count": 46,
   "id": "1abc2ee9-62cd-4a7a-8778-d793f83d8847",
   "metadata": {},
   "outputs": [
    {
     "name": "stdin",
     "output_type": "stream",
     "text": [
      "enter a number :  100\n"
     ]
    },
    {
     "name": "stdout",
     "output_type": "stream",
     "text": [
      "the sum of 100 is 5050\n"
     ]
    }
   ],
   "source": [
    "num = int(input(\"enter a number : \"))\n",
    "sum = 0\n",
    "for i in range(num+1):\n",
    "    sum += i\n",
    "    \n",
    "print(f'the sum of {num} is {sum}')\n"
   ]
  },
  {
   "cell_type": "code",
   "execution_count": null,
   "id": "e53e80cd-8a9e-4f76-a650-13382fad42fd",
   "metadata": {},
   "outputs": [],
   "source": []
  }
 ],
 "metadata": {
  "kernelspec": {
   "display_name": "Python 3 (ipykernel)",
   "language": "python",
   "name": "python3"
  },
  "language_info": {
   "codemirror_mode": {
    "name": "ipython",
    "version": 3
   },
   "file_extension": ".py",
   "mimetype": "text/x-python",
   "name": "python",
   "nbconvert_exporter": "python",
   "pygments_lexer": "ipython3",
   "version": "3.12.5"
  }
 },
 "nbformat": 4,
 "nbformat_minor": 5
}
