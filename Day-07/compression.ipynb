{
 "cells": [
  {
   "cell_type": "code",
   "execution_count": 29,
   "id": "252d05f6-9c95-4a82-b07c-e458ed6d228a",
   "metadata": {},
   "outputs": [
    {
     "name": "stdout",
     "output_type": "stream",
     "text": [
      "not found in the list\n",
      "not found in the list\n",
      "2\n",
      "not found in the list\n"
     ]
    }
   ],
   "source": [
    "nums = [1, 3, 5, 6]\n",
    "target = 5\n",
    "\n",
    "length = len(nums)\n",
    "\n",
    "for i in range(length):\n",
    "    if target == nums[i]:\n",
    "        print(i)\n",
    "\n",
    "    elif target != nums[i]:\n",
    "        print(\"not found in the list\")"
   ]
  },
  {
   "cell_type": "code",
   "execution_count": 41,
   "id": "fc394f35-d7ea-456b-9b82-dadc42458180",
   "metadata": {},
   "outputs": [
    {
     "name": "stdin",
     "output_type": "stream",
     "text": [
      "enter the number:  10\n"
     ]
    },
    {
     "name": "stdout",
     "output_type": "stream",
     "text": [
      "10 X 1 = 10\n",
      "10 X 2 = 20\n",
      "10 X 3 = 30\n",
      "10 X 4 = 40\n",
      "10 X 5 = 50\n",
      "10 X 6 = 60\n",
      "10 X 7 = 70\n",
      "10 X 8 = 80\n",
      "10 X 9 = 90\n",
      "10 X 10 = 100\n"
     ]
    }
   ],
   "source": [
    "num = int(input(\"enter the number: \"))\n",
    "i = 1\n",
    "while i <= 10:\n",
    "    print(f'{num} X {i} = {num * i}')\n",
    "    i+=1\n",
    "    "
   ]
  },
  {
   "cell_type": "code",
   "execution_count": 48,
   "id": "dd9c3907-c18a-4dab-ad03-34368090710c",
   "metadata": {},
   "outputs": [
    {
     "name": "stdout",
     "output_type": "stream",
     "text": [
      "[0, 2, 4, 6, 8, 10, 12, 14, 16, 18, 20, 22, 24, 26, 28, 30, 32, 34, 36, 38, 40, 42, 44, 46, 48, 50, 52, 54, 56, 58, 60, 62, 64, 66, 68, 70, 72, 74, 76, 78, 80, 82, 84, 86, 88, 90, 92, 94, 96, 98]\n"
     ]
    }
   ],
   "source": [
    "nums = [1,2,3,4,5]\n",
    "\n",
    "sq = [i for i in range(100) if i % 2 == 0]\n",
    "print(sq)"
   ]
  },
  {
   "cell_type": "code",
   "execution_count": 51,
   "id": "acc243b4-0bdc-4dda-a71b-357cb54dc18a",
   "metadata": {},
   "outputs": [
    {
     "name": "stdout",
     "output_type": "stream",
     "text": [
      "[5, 4]\n"
     ]
    }
   ],
   "source": [
    "list = [\"apple\",\"ball\"]\n",
    "\n",
    "result = []\n",
    "new_res = [len(i) for i in list]\n",
    "\n",
    "print(new_res)\n"
   ]
  },
  {
   "cell_type": "code",
   "execution_count": 63,
   "id": "31145f78-e65b-44fc-b0b3-9140013dc3ac",
   "metadata": {},
   "outputs": [
    {
     "name": "stdout",
     "output_type": "stream",
     "text": [
      "[4, 3]\n"
     ]
    }
   ],
   "source": [
    "list = [\"apple\",\"ball\"]\n",
    "new_res = [len(set(i)) for i in list]\n",
    "print(new_res)"
   ]
  },
  {
   "cell_type": "code",
   "execution_count": 79,
   "id": "43a927ea-283e-43fe-bff1-3e66942fc097",
   "metadata": {},
   "outputs": [
    {
     "name": "stdout",
     "output_type": "stream",
     "text": [
      "{'u', 'e', 'o'}\n"
     ]
    }
   ],
   "source": [
    "sentence = \"the brown fox jumps over the lzy dog.\"\n",
    "\n",
    "vowels = set(\"aeiou\")\n",
    "\n",
    "unique = {char \n",
    "          for char in sentence \n",
    "          if char in vowels}\n",
    "print(unique)"
   ]
  },
  {
   "cell_type": "code",
   "execution_count": null,
   "id": "af7046b1-e9bd-4bd1-8b48-b0655d1aaaeb",
   "metadata": {},
   "outputs": [],
   "source": []
  }
 ],
 "metadata": {
  "kernelspec": {
   "display_name": "Python 3 (ipykernel)",
   "language": "python",
   "name": "python3"
  },
  "language_info": {
   "codemirror_mode": {
    "name": "ipython",
    "version": 3
   },
   "file_extension": ".py",
   "mimetype": "text/x-python",
   "name": "python",
   "nbconvert_exporter": "python",
   "pygments_lexer": "ipython3",
   "version": "3.12.5"
  }
 },
 "nbformat": 4,
 "nbformat_minor": 5
}
