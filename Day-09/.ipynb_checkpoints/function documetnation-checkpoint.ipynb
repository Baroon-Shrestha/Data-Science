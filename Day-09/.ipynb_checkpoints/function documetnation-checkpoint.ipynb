{
 "cells": [
  {
   "cell_type": "markdown",
   "id": "e4ab9254-c352-4290-af69-ce294369dd42",
   "metadata": {},
   "source": [
    "# Function Documentation\n",
    "\n",
    "syntax :\n",
    "purpose of the function\n",
    "\n",
    "parameters(n), where,\n",
    "n (int or float) : user input\n",
    "\n",
    "returns the square of a number\n"
   ]
  },
  {
   "cell_type": "code",
   "execution_count": 39,
   "id": "7d4a1995-82aa-434b-aa0e-a3d26df82ec5",
   "metadata": {},
   "outputs": [],
   "source": [
    "def num_sq(n):\n",
    "    \"\"\"\n",
    "    syntax : gives square of a given number\n",
    "\n",
    "    parameters(n), where, n (int or float) : user input\n",
    "    \n",
    "    returns the square of a number\n",
    "    \n",
    "    \"\"\"\n",
    "    \n",
    "    return n**2;"
   ]
  },
  {
   "cell_type": "code",
   "execution_count": 43,
   "id": "b281d907-1635-4d19-9729-a3aa675616dd",
   "metadata": {},
   "outputs": [
    {
     "data": {
      "text/plain": [
       "100"
      ]
     },
     "execution_count": 43,
     "metadata": {},
     "output_type": "execute_result"
    }
   ],
   "source": [
    "num_sq(10)"
   ]
  },
  {
   "cell_type": "code",
   "execution_count": 61,
   "id": "437e17a9-29de-4670-97a0-90e01b41a5d7",
   "metadata": {},
   "outputs": [
    {
     "data": {
      "text/plain": [
       "8"
      ]
     },
     "execution_count": 61,
     "metadata": {},
     "output_type": "execute_result"
    }
   ],
   "source": [
    "def power(base,exp = 2):\n",
    "    \"\"\"\n",
    "    syntax : gives power of a given base and expressoin\n",
    "\n",
    "    parameters(base, exp):\n",
    "    base : int\n",
    "            base number will increase to the value of exp\n",
    "    exp : int, default = 2\n",
    "            exp number to raise the base\n",
    "    \n",
    "    returns the power of the given base to expression\n",
    "\n",
    "    \"\"\"\n",
    "    return base ** exp\n",
    "    \n",
    "power(2,3)\n"
   ]
  },
  {
   "cell_type": "code",
   "execution_count": null,
   "id": "c52eb3b9-c079-4f4d-9608-da3a172d618a",
   "metadata": {},
   "outputs": [],
   "source": []
  }
 ],
 "metadata": {
  "kernelspec": {
   "display_name": "Python 3 (ipykernel)",
   "language": "python",
   "name": "python3"
  },
  "language_info": {
   "codemirror_mode": {
    "name": "ipython",
    "version": 3
   },
   "file_extension": ".py",
   "mimetype": "text/x-python",
   "name": "python",
   "nbconvert_exporter": "python",
   "pygments_lexer": "ipython3",
   "version": "3.12.5"
  }
 },
 "nbformat": 4,
 "nbformat_minor": 5
}
