{
 "cells": [
  {
   "cell_type": "code",
   "execution_count": 12,
   "id": "32a1b785-1058-4a94-b699-dc6c298c74bc",
   "metadata": {},
   "outputs": [
    {
     "data": {
      "text/plain": [
       "'sum of 10 + 12 is 22 '"
      ]
     },
     "execution_count": 12,
     "metadata": {},
     "output_type": "execute_result"
    }
   ],
   "source": [
    "class Calculator:\n",
    "    def __init__(self, num1, num2):\n",
    "        self.num1 = num1\n",
    "        self.num2 = num2\n",
    "        \n",
    "    def add(self):\n",
    "        return f\"sum of {self.num1} + {self.num2} is {self.num1 + self.num2} \"\n",
    "calc = Calculator(10,12)\n",
    "calc.add()"
   ]
  },
  {
   "cell_type": "code",
   "execution_count": 13,
   "id": "bdc1be00-99a9-4ff5-8262-96d6fff666d5",
   "metadata": {},
   "outputs": [
    {
     "data": {
      "text/plain": [
       "'David is barking'"
      ]
     },
     "execution_count": 13,
     "metadata": {},
     "output_type": "execute_result"
    }
   ],
   "source": [
    "class animal:\n",
    "    def __init__(self, name):\n",
    "        self.name = name\n",
    "    def bark(self):\n",
    "        return f\"{self.name} is barking\"\n",
    "\n",
    "ani = animal(\"David\")\n",
    "ani.bark()"
   ]
  },
  {
   "cell_type": "code",
   "execution_count": null,
   "id": "0786950f-ed18-4173-b44e-d632906ed50c",
   "metadata": {},
   "outputs": [],
   "source": []
  }
 ],
 "metadata": {
  "kernelspec": {
   "display_name": "Python 3 (ipykernel)",
   "language": "python",
   "name": "python3"
  },
  "language_info": {
   "codemirror_mode": {
    "name": "ipython",
    "version": 3
   },
   "file_extension": ".py",
   "mimetype": "text/x-python",
   "name": "python",
   "nbconvert_exporter": "python",
   "pygments_lexer": "ipython3",
   "version": "3.12.5"
  }
 },
 "nbformat": 4,
 "nbformat_minor": 5
}
