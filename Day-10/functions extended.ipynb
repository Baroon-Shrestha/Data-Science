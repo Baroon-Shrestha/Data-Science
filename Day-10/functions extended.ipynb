{
 "cells": [
  {
   "cell_type": "code",
   "execution_count": 7,
   "id": "9513aa4e-e124-45a5-a365-ecf82bcbf854",
   "metadata": {},
   "outputs": [
    {
     "data": {
      "text/plain": [
       "55"
      ]
     },
     "execution_count": 7,
     "metadata": {},
     "output_type": "execute_result"
    }
   ],
   "source": [
    "def fab(n):\n",
    "    if n == 0:\n",
    "        return 0\n",
    "    elif n == 1:\n",
    "        return 1\n",
    "    else:\n",
    "        return fab(n-1) + fab(n-2)\n",
    "fab(10)"
   ]
  },
  {
   "cell_type": "code",
   "execution_count": 21,
   "id": "d0b0981a-0b12-4541-b77a-ce875923798b",
   "metadata": {},
   "outputs": [
    {
     "data": {
      "text/plain": [
       "120"
      ]
     },
     "execution_count": 21,
     "metadata": {},
     "output_type": "execute_result"
    }
   ],
   "source": [
    "def factorial(n):\n",
    "    if n == 1:\n",
    "        return 1\n",
    "\n",
    "    return (n*factorial(n-1))\n",
    "factorial(5)"
   ]
  },
  {
   "cell_type": "code",
   "execution_count": 74,
   "id": "6a064570-89f1-4aba-8b52-a3d77ee88d1e",
   "metadata": {},
   "outputs": [
    {
     "data": {
      "text/plain": [
       "{'name': 'David', 'age': 20, 'type': 'Dog'}"
      ]
     },
     "execution_count": 74,
     "metadata": {},
     "output_type": "execute_result"
    }
   ],
   "source": [
    "def Describe_pet(**kwargs):\n",
    "    return {k:v for k,v in kwargs.items()}\n",
    "\n",
    "Describe_pet(name=\"David\", age = 20, type = \"Dog\")"
   ]
  },
  {
   "cell_type": "code",
   "execution_count": 93,
   "id": "b7d637ae-47c6-4ef4-ba64-9c230b373786",
   "metadata": {},
   "outputs": [
    {
     "data": {
      "text/plain": [
       "1.4142135623730951"
      ]
     },
     "execution_count": 93,
     "metadata": {},
     "output_type": "execute_result"
    }
   ],
   "source": [
    "import math\n",
    "\n",
    "def standard_Deviation(lst):\n",
    "    mean = sum(lst) / len(lst)\n",
    "    variance = sum((n-mean)**2 for n in lst) / len(lst)\n",
    "\n",
    "    return math.sqrt(variance)\n",
    "    \n",
    "standard_Deviation((1,2,3,4,5))"
   ]
  },
  {
   "cell_type": "code",
   "execution_count": 42,
   "id": "a00a2d4b-cd1b-452a-b9c1-1f43e8c7a801",
   "metadata": {},
   "outputs": [
    {
     "data": {
      "text/plain": [
       "[1, 2, 3, 4, 5]"
      ]
     },
     "execution_count": 42,
     "metadata": {},
     "output_type": "execute_result"
    }
   ],
   "source": [
    "my_list = [\"1\",\"2\",\"3\",\"4\",\"5\"]\n",
    "\n",
    "newList = list(map(int,my_list))\n",
    "newList"
   ]
  },
  {
   "cell_type": "code",
   "execution_count": 55,
   "id": "1769392f-216f-4580-bb83-c79c99e33d23",
   "metadata": {},
   "outputs": [
    {
     "data": {
      "text/plain": [
       "120"
      ]
     },
     "execution_count": 55,
     "metadata": {},
     "output_type": "execute_result"
    }
   ],
   "source": [
    "from functools import reduce\n",
    "\n",
    "my_list = [1, 2, 3, 4, 5]\n",
    "fact = reduce(lambda x,y : x * y, my_list)\n",
    "fact"
   ]
  },
  {
   "cell_type": "code",
   "execution_count": 63,
   "id": "f77fdc58-7228-4a20-af9b-a06832d2f77b",
   "metadata": {},
   "outputs": [
    {
     "name": "stdout",
     "output_type": "stream",
     "text": [
      "[2, 4]\n"
     ]
    }
   ],
   "source": [
    "list1 = [1, 2, 3, 4, 5]\n",
    "\n",
    "new_list = list(filter(lambda x : x % 2 == 0 , list1))\n",
    "print(new_list)"
   ]
  },
  {
   "cell_type": "code",
   "execution_count": 66,
   "id": "a22e5574-c6a6-4b7a-b804-dd648e375776",
   "metadata": {},
   "outputs": [
    {
     "data": {
      "text/plain": [
       "['ram', 'hello', 'world']"
      ]
     },
     "execution_count": 66,
     "metadata": {},
     "output_type": "execute_result"
    }
   ],
   "source": [
    "list2 = [\"\",\"ram\",\"\",\"hello\",\"world\"]\n",
    "\n",
    "new_list2 = list(filter(lambda x : x != \"\", list2))\n",
    "\n",
    "new_list2"
   ]
  },
  {
   "cell_type": "code",
   "execution_count": null,
   "id": "43362655-1ad9-4e3a-8b21-a3a4f1c41a58",
   "metadata": {},
   "outputs": [],
   "source": []
  }
 ],
 "metadata": {
  "kernelspec": {
   "display_name": "Python 3 (ipykernel)",
   "language": "python",
   "name": "python3"
  },
  "language_info": {
   "codemirror_mode": {
    "name": "ipython",
    "version": 3
   },
   "file_extension": ".py",
   "mimetype": "text/x-python",
   "name": "python",
   "nbconvert_exporter": "python",
   "pygments_lexer": "ipython3",
   "version": "3.12.5"
  }
 },
 "nbformat": 4,
 "nbformat_minor": 5
}
