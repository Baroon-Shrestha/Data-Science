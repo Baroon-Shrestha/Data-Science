{
 "cells": [
  {
   "cell_type": "code",
   "execution_count": 88,
   "id": "94e6f60e-f53e-4e41-b91e-cdbcd802eaf1",
   "metadata": {},
   "outputs": [],
   "source": [
    "class Calc:\n",
    "    count = 0\n",
    "    \n",
    "    def __init__ (self,num1,num2):\n",
    "        self.num1 = num1\n",
    "        self.num2 = num2\n",
    "        Calc.count += 1\n",
    "\n",
    "\n",
    "    def sum(self):\n",
    "        return self.num1 + self.num2\n",
    "\n",
    "    @classmethod\n",
    "    def get_count(cls):\n",
    "        return Calc.count\n",
    "        "
   ]
  },
  {
   "cell_type": "code",
   "execution_count": 89,
   "id": "437d6122-5759-4718-b814-12f51417bda3",
   "metadata": {},
   "outputs": [
    {
     "name": "stdout",
     "output_type": "stream",
     "text": [
      "21\n"
     ]
    },
    {
     "data": {
      "text/plain": [
       "1"
      ]
     },
     "execution_count": 89,
     "metadata": {},
     "output_type": "execute_result"
    }
   ],
   "source": [
    "calculator = Calc(10,11)\n",
    "\n",
    "print(calculator.sum())\n",
    "calculator.get_count()"
   ]
  },
  {
   "cell_type": "code",
   "execution_count": 149,
   "id": "25073b2b-453d-4647-815a-f9d65860e50d",
   "metadata": {},
   "outputs": [
    {
     "data": {
      "text/plain": [
       "'The Grand Design is not available'"
      ]
     },
     "execution_count": 149,
     "metadata": {},
     "output_type": "execute_result"
    }
   ],
   "source": [
    "books = [ \n",
    "    (\"The Alchemist\", 25),\n",
    "    (\"The Da Vinci Code\", 30),\n",
    "    (\"A Brief History of Time\", 15),\n",
    "    (\"Angels & Demons\", 0),\n",
    "    (\"The Grand Design\", 0),\n",
    "    (\"1984\", 19)]\n",
    "\n",
    "class library:\n",
    "    total_Stud = 0\n",
    "    \n",
    "    def __init__ (self,name,Dept = \"cs\"):\n",
    "        self.name = name\n",
    "        self.Dept = Dept\n",
    "        library.total_Stud += 1\n",
    "\n",
    "    def can_lend (self,book_name):\n",
    "        book_found = False\n",
    "        for name, qty in books:\n",
    "            if (book_name == name) and (qty > 0):\n",
    "                book_found = True\n",
    "                \n",
    "        if book_found:\n",
    "            return f\"{book_name} is available\"\n",
    "        else:\n",
    "            return f\"{book_name} is not available\"\n",
    "                \n",
    "    @classmethod\n",
    "    def get_count(cls):\n",
    "        return library.total_Stud\n",
    "\n",
    "std1 = library(name = \"baroon\")\n",
    "std2 = library(name = \"ram\")\n",
    "std3 = library(name = \"sam\")\n",
    "std1.can_lend(\"The Grand Design\")"
   ]
  },
  {
   "cell_type": "code",
   "execution_count": 145,
   "id": "f6e470ad-5096-4b3c-9ca6-720628c77f88",
   "metadata": {},
   "outputs": [
    {
     "data": {
      "text/plain": [
       "'1984 is available'"
      ]
     },
     "execution_count": 145,
     "metadata": {},
     "output_type": "execute_result"
    }
   ],
   "source": [
    "std1.can_lend(\"1984\")"
   ]
  },
  {
   "cell_type": "code",
   "execution_count": 146,
   "id": "3194409e-daa9-4b3b-a647-05a51aae7f51",
   "metadata": {},
   "outputs": [
    {
     "data": {
      "text/plain": [
       "3"
      ]
     },
     "execution_count": 146,
     "metadata": {},
     "output_type": "execute_result"
    }
   ],
   "source": [
    "std1.get_count()"
   ]
  },
  {
   "cell_type": "code",
   "execution_count": 147,
   "id": "88b51e8f-4989-4b62-bc05-cd826ffd5f51",
   "metadata": {},
   "outputs": [
    {
     "data": {
      "text/plain": [
       "'The Grand Design is not available'"
      ]
     },
     "execution_count": 147,
     "metadata": {},
     "output_type": "execute_result"
    }
   ],
   "source": [
    "std1.can_lend(\"The Grand Design\")"
   ]
  },
  {
   "cell_type": "code",
   "execution_count": 148,
   "id": "55580cfd-cedf-4baf-a12c-48748ac4064c",
   "metadata": {},
   "outputs": [
    {
     "data": {
      "text/plain": [
       "'The Da Vinci Code is available'"
      ]
     },
     "execution_count": 148,
     "metadata": {},
     "output_type": "execute_result"
    }
   ],
   "source": [
    "std2.can_lend(\"The Da Vinci Code\")"
   ]
  },
  {
   "cell_type": "code",
   "execution_count": 159,
   "id": "16e84e99-a0e5-49ef-b0eb-16bb51a0c584",
   "metadata": {},
   "outputs": [
    {
     "ename": "NameError",
     "evalue": "name 'name' is not defined",
     "output_type": "error",
     "traceback": [
      "\u001b[0;31m---------------------------------------------------------------------------\u001b[0m",
      "\u001b[0;31mNameError\u001b[0m                                 Traceback (most recent call last)",
      "Cell \u001b[0;32mIn[159], line 35\u001b[0m\n\u001b[1;32m     30\u001b[0m     \u001b[38;5;129m@classmethod\u001b[39m\n\u001b[1;32m     31\u001b[0m     \u001b[38;5;28;01mdef\u001b[39;00m \u001b[38;5;21mget_std_count\u001b[39m(\u001b[38;5;28mcls\u001b[39m):\n\u001b[1;32m     32\u001b[0m         \u001b[38;5;28;01mreturn\u001b[39;00m library\u001b[38;5;241m.\u001b[39mget_count\n\u001b[0;32m---> 35\u001b[0m std1 \u001b[38;5;241m=\u001b[39m \u001b[43mnew_Library\u001b[49m\u001b[43m(\u001b[49m\u001b[43m)\u001b[49m\n\u001b[1;32m     36\u001b[0m \u001b[38;5;66;03m# std1.lend_book(\"Angels & Demons\")\u001b[39;00m\n",
      "Cell \u001b[0;32mIn[159], line 8\u001b[0m, in \u001b[0;36mnew_Library.__init__\u001b[0;34m(self, std_name, dept)\u001b[0m\n\u001b[1;32m      7\u001b[0m \u001b[38;5;28;01mdef\u001b[39;00m \u001b[38;5;21m__init__\u001b[39m(\u001b[38;5;28mself\u001b[39m,std_name \u001b[38;5;241m=\u001b[39m \u001b[38;5;124m\"\u001b[39m\u001b[38;5;124mbaroon\u001b[39m\u001b[38;5;124m\"\u001b[39m ,dept \u001b[38;5;241m=\u001b[39m \u001b[38;5;124m\"\u001b[39m\u001b[38;5;124mcs\u001b[39m\u001b[38;5;124m\"\u001b[39m):\n\u001b[0;32m----> 8\u001b[0m     \u001b[38;5;28mself\u001b[39m\u001b[38;5;241m.\u001b[39mstd_name \u001b[38;5;241m=\u001b[39m \u001b[43mname\u001b[49m\n\u001b[1;32m      9\u001b[0m     \u001b[38;5;28mself\u001b[39m\u001b[38;5;241m.\u001b[39mdept \u001b[38;5;241m=\u001b[39m dept\n\u001b[1;32m     10\u001b[0m     \u001b[38;5;28mself\u001b[39m\u001b[38;5;241m.\u001b[39mbooks \u001b[38;5;241m=\u001b[39m [ \n\u001b[1;32m     11\u001b[0m         (\u001b[38;5;124m\"\u001b[39m\u001b[38;5;124mThe Alchemist\u001b[39m\u001b[38;5;124m\"\u001b[39m, \u001b[38;5;241m25\u001b[39m),\n\u001b[1;32m     12\u001b[0m         (\u001b[38;5;124m\"\u001b[39m\u001b[38;5;124mThe Da Vinci Code\u001b[39m\u001b[38;5;124m\"\u001b[39m, \u001b[38;5;241m30\u001b[39m),\n\u001b[0;32m   (...)\u001b[0m\n\u001b[1;32m     15\u001b[0m         (\u001b[38;5;124m\"\u001b[39m\u001b[38;5;124mThe Grand Design\u001b[39m\u001b[38;5;124m\"\u001b[39m, \u001b[38;5;241m0\u001b[39m),\n\u001b[1;32m     16\u001b[0m         (\u001b[38;5;124m\"\u001b[39m\u001b[38;5;124m1984\u001b[39m\u001b[38;5;124m\"\u001b[39m, \u001b[38;5;241m19\u001b[39m)]\n",
      "\u001b[0;31mNameError\u001b[0m: name 'name' is not defined"
     ]
    }
   ],
   "source": [
    "class new_Library:\n",
    "    std_count = 0\n",
    "    \n",
    "    \n",
    "\n",
    "\n",
    "    def __init__(self,std_name = \"baroon\" ,dept = \"cs\"):\n",
    "        self.std_name = name\n",
    "        self.dept = dept\n",
    "        self.books = [ \n",
    "            (\"The Alchemist\", 25),\n",
    "            (\"The Da Vinci Code\", 30),\n",
    "            (\"A Brief History of Time\", 15),\n",
    "            (\"Angels & Demons\", 0),\n",
    "            (\"The Grand Design\", 0),\n",
    "            (\"1984\", 19)]\n",
    "        std_count += 1\n",
    "\n",
    "\n",
    "\n",
    "    def lend_book(self,book_name):\n",
    "        book_found = False\n",
    "\n",
    "        find_book = (book for name,qty in books if (books_name == name) and (qty > 0))\n",
    "        if book_found:\n",
    "            return \"Book is avaiable\"\n",
    "        else:\n",
    "            return \"Book is not avaiable\"\n",
    "\n",
    "    @classmethod\n",
    "    def get_std_count(cls):\n",
    "        return library.get_count\n",
    "\n",
    "\n",
    "std1 = new_Library()\n",
    "# std1.lend_book(\"Angels & Demons\")"
   ]
  },
  {
   "cell_type": "markdown",
   "id": "287cb587-f87c-44d2-ac07-33b696d7614a",
   "metadata": {},
   "source": [
    "# single Inheritance"
   ]
  },
  {
   "cell_type": "code",
   "execution_count": 177,
   "id": "f89bd0ae-dc00-4512-a2f1-552e58319629",
   "metadata": {},
   "outputs": [],
   "source": [
    "class Animal:\n",
    "    def __init__(self,name,age):\n",
    "        self.name = name\n",
    "        self.age = age\n",
    "\n",
    "    def intro(self):\n",
    "        return f\"my name is {self.name}\""
   ]
  },
  {
   "cell_type": "code",
   "execution_count": 178,
   "id": "4fece114-9593-4de6-b303-3f451b5ebd42",
   "metadata": {},
   "outputs": [
    {
     "name": "stdout",
     "output_type": "stream",
     "text": [
      "Meow\n",
      "my name is Fluffy\n"
     ]
    }
   ],
   "source": [
    "class Cat(Animal):\n",
    "    def __init__(self,name,age,color):\n",
    "        super().__init__(name,age)\n",
    "        self.color = color\n",
    "\n",
    "    def speak(self):\n",
    "        print(\"Meow\")\n",
    "\n",
    "my_ani = Cat(\"Fluffy\",1,\"red\")\n",
    "my_ani.speak()\n",
    "print(my_ani.intro())"
   ]
  },
  {
   "cell_type": "markdown",
   "id": "660e710f-262c-4849-8aa9-75a99ea8c014",
   "metadata": {},
   "source": [
    "# multiple Inheritance"
   ]
  },
  {
   "cell_type": "code",
   "execution_count": null,
   "id": "191cc8d7-4bee-46c4-b403-75a84c709353",
   "metadata": {},
   "outputs": [],
   "source": []
  }
 ],
 "metadata": {
  "kernelspec": {
   "display_name": "Python 3 (ipykernel)",
   "language": "python",
   "name": "python3"
  },
  "language_info": {
   "codemirror_mode": {
    "name": "ipython",
    "version": 3
   },
   "file_extension": ".py",
   "mimetype": "text/x-python",
   "name": "python",
   "nbconvert_exporter": "python",
   "pygments_lexer": "ipython3",
   "version": "3.12.5"
  }
 },
 "nbformat": 4,
 "nbformat_minor": 5
}
