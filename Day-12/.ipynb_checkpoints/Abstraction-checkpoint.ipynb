{
 "cells": [
  {
   "cell_type": "code",
   "execution_count": 30,
   "id": "c7343cce-0e66-4d00-b155-fd85dd4f9542",
   "metadata": {},
   "outputs": [
    {
     "name": "stdout",
     "output_type": "stream",
     "text": [
      "Area: 50\n",
      "Perimeter: 30\n",
      "Volume: Volume is not applicable for a 2D shape.\n"
     ]
    }
   ],
   "source": [
    "from abc import ABC, abstractmethod\n",
    "\n",
    "class Shape(ABC):\n",
    "    @abstractmethod\n",
    "    def area(self):\n",
    "        pass\n",
    "\n",
    "    @abstractmethod\n",
    "    def perimeter(self):\n",
    "        pass\n",
    "\n",
    "    @abstractmethod\n",
    "    def volume(self):\n",
    "        pass\n",
    "\n",
    "class Rectangle(Shape):\n",
    "    def __init__(self, length, height):\n",
    "        self.length = length\n",
    "        self.height = height\n",
    "\n",
    "    def area(self):\n",
    "        return self.length * self.height\n",
    "        \n",
    "    def perimeter(self):\n",
    "        return 2 * (self.length + self.height)\n",
    "        \n",
    "    def volume(self):\n",
    "        return \"Volume is not applicable for a 2D shape.\"\n",
    "\n",
    "rect = Rectangle(5, 10)\n",
    "print(\"Area:\", rect.area())           \n",
    "print(\"Perimeter:\", rect.perimeter()) \n",
    "print(\"Volume:\", rect.volume())       \n"
   ]
  },
  {
   "cell_type": "code",
   "execution_count": 29,
   "id": "b1c3d712-7ac7-4e1e-93a9-111922932c0b",
   "metadata": {},
   "outputs": [
    {
     "ename": "TypeError",
     "evalue": "Can't instantiate abstract class Rectangle without an implementation for abstract method 'perimeter'",
     "output_type": "error",
     "traceback": [
      "\u001b[0;31m---------------------------------------------------------------------------\u001b[0m",
      "\u001b[0;31mTypeError\u001b[0m                                 Traceback (most recent call last)",
      "Cell \u001b[0;32mIn[29], line 1\u001b[0m\n\u001b[0;32m----> 1\u001b[0m obj \u001b[38;5;241m=\u001b[39m \u001b[43mRectangle\u001b[49m\u001b[43m(\u001b[49m\u001b[38;5;241;43m10\u001b[39;49m\u001b[43m,\u001b[49m\u001b[38;5;241;43m10\u001b[39;49m\u001b[43m)\u001b[49m\n",
      "\u001b[0;31mTypeError\u001b[0m: Can't instantiate abstract class Rectangle without an implementation for abstract method 'perimeter'"
     ]
    }
   ],
   "source": [
    "obj = Rectangle(10,10)"
   ]
  },
  {
   "cell_type": "code",
   "execution_count": null,
   "id": "4f9bf923-6d1d-4f55-916b-1dd73660cf2f",
   "metadata": {},
   "outputs": [],
   "source": []
  },
  {
   "cell_type": "code",
   "execution_count": null,
   "id": "dd969fc8-65f3-470c-bdfa-895529832946",
   "metadata": {},
   "outputs": [],
   "source": []
  }
 ],
 "metadata": {
  "kernelspec": {
   "display_name": "Python 3 (ipykernel)",
   "language": "python",
   "name": "python3"
  },
  "language_info": {
   "codemirror_mode": {
    "name": "ipython",
    "version": 3
   },
   "file_extension": ".py",
   "mimetype": "text/x-python",
   "name": "python",
   "nbconvert_exporter": "python",
   "pygments_lexer": "ipython3",
   "version": "3.12.5"
  }
 },
 "nbformat": 4,
 "nbformat_minor": 5
}
