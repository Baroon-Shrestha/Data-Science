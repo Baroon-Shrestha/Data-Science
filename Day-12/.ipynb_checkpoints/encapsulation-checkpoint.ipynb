{
 "cells": [
  {
   "cell_type": "code",
   "execution_count": 25,
   "id": "e06280ad-6f55-454e-88bb-a900bba27f04",
   "metadata": {},
   "outputs": [
    {
     "name": "stdout",
     "output_type": "stream",
     "text": [
      "this is public nethod\n"
     ]
    }
   ],
   "source": [
    "class Example:\n",
    "    def __init__(self):\n",
    "        self.public_var = 1\n",
    "        self._protected_var = 2\n",
    "        self.__private_var = 3\n",
    "\n",
    "    def public_method(self):\n",
    "        print(\"this is public nethod\")\n",
    "    def _protected_method(self):\n",
    "        print(\"this is protected method\")\n",
    "    def __priavte_method(self):\n",
    "        print(\"this is private method\")\n",
    "        print(self.__private_var)\n",
    "\n",
    "obj = Example()\n",
    "obj.public_method()"
   ]
  },
  {
   "cell_type": "code",
   "execution_count": 26,
   "id": "68e9a732-e2b9-4a11-b53a-30e74530530a",
   "metadata": {},
   "outputs": [
    {
     "name": "stdout",
     "output_type": "stream",
     "text": [
      "this is protected method\n"
     ]
    }
   ],
   "source": [
    "obj._protected_method()"
   ]
  },
  {
   "cell_type": "code",
   "execution_count": 27,
   "id": "1aa1638b-90cd-4495-a917-053b2645da6b",
   "metadata": {},
   "outputs": [
    {
     "ename": "AttributeError",
     "evalue": "'Example' object has no attribute '__private_method'",
     "output_type": "error",
     "traceback": [
      "\u001b[0;31m---------------------------------------------------------------------------\u001b[0m",
      "\u001b[0;31mAttributeError\u001b[0m                            Traceback (most recent call last)",
      "Cell \u001b[0;32mIn[27], line 1\u001b[0m\n\u001b[0;32m----> 1\u001b[0m \u001b[43mobj\u001b[49m\u001b[38;5;241;43m.\u001b[39;49m\u001b[43m__private_method\u001b[49m()\n",
      "\u001b[0;31mAttributeError\u001b[0m: 'Example' object has no attribute '__private_method'"
     ]
    }
   ],
   "source": [
    "obj.__private_method()"
   ]
  },
  {
   "cell_type": "code",
   "execution_count": null,
   "id": "ce505f48-e1fb-4dd9-8a7b-5c8d5e1ecf99",
   "metadata": {},
   "outputs": [],
   "source": []
  }
 ],
 "metadata": {
  "kernelspec": {
   "display_name": "Python 3 (ipykernel)",
   "language": "python",
   "name": "python3"
  },
  "language_info": {
   "codemirror_mode": {
    "name": "ipython",
    "version": 3
   },
   "file_extension": ".py",
   "mimetype": "text/x-python",
   "name": "python",
   "nbconvert_exporter": "python",
   "pygments_lexer": "ipython3",
   "version": "3.12.5"
  }
 },
 "nbformat": 4,
 "nbformat_minor": 5
}
