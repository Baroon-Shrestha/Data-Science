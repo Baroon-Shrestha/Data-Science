{
 "cells": [
  {
   "cell_type": "code",
   "execution_count": 12,
   "id": "e49477d2-0705-437b-bca1-353df174d3ff",
   "metadata": {},
   "outputs": [],
   "source": [
    "class Animal:\n",
    "    def sound(self):\n",
    "        print(\"making sound.....\")\n",
    "\n",
    "class Dog(Animal):\n",
    "    def sound(self, sound):\n",
    "        print(f\"makgin sound.... {sound}\")\n",
    "\n",
    "class Cat(Animal):\n",
    "    def sound(self,sound):\n",
    "        print(f\"makgin sound.... {sound}\")"
   ]
  },
  {
   "cell_type": "code",
   "execution_count": 13,
   "id": "caa1ac7a-5375-461e-81ff-96cc8785337b",
   "metadata": {},
   "outputs": [],
   "source": [
    "dog = Dog()\n",
    "cat = Cat()"
   ]
  },
  {
   "cell_type": "code",
   "execution_count": 14,
   "id": "1ff55747-13d5-49c7-b026-c01f18897b27",
   "metadata": {},
   "outputs": [
    {
     "name": "stdout",
     "output_type": "stream",
     "text": [
      "makgin sound.... bark\n"
     ]
    }
   ],
   "source": [
    "dog.sound(\"bark\")"
   ]
  },
  {
   "cell_type": "code",
   "execution_count": 15,
   "id": "6ba77480-b375-4570-a679-ee0a520a6c64",
   "metadata": {},
   "outputs": [
    {
     "name": "stdout",
     "output_type": "stream",
     "text": [
      "makgin sound.... meow\n"
     ]
    }
   ],
   "source": [
    "cat.sound(\"meow\")"
   ]
  },
  {
   "cell_type": "code",
   "execution_count": 19,
   "id": "4a9607aa-3bc1-4027-b6df-15ef4f02bac3",
   "metadata": {},
   "outputs": [],
   "source": [
    "class Parent:\n",
    "    def greet(self):\n",
    "        print(\"Hello from parent class\")\n",
    "\n",
    "class child(Parent):\n",
    "    def greet(self):\n",
    "        print(\"Hello from child class\")\n",
    "        super().greet()"
   ]
  },
  {
   "cell_type": "code",
   "execution_count": 20,
   "id": "1e4c8964-e812-4deb-9e4d-cdd6c56a39c2",
   "metadata": {},
   "outputs": [],
   "source": [
    "child = child()"
   ]
  },
  {
   "cell_type": "code",
   "execution_count": 21,
   "id": "e47df65d-7dee-44c2-967a-59f744b1e1cb",
   "metadata": {},
   "outputs": [
    {
     "name": "stdout",
     "output_type": "stream",
     "text": [
      "Hello from child class\n",
      "Hello from parent class\n"
     ]
    }
   ],
   "source": [
    "child.greet()"
   ]
  },
  {
   "cell_type": "code",
   "execution_count": null,
   "id": "667f5d1f-7f53-4884-9289-4401ae937ec8",
   "metadata": {},
   "outputs": [],
   "source": []
  }
 ],
 "metadata": {
  "kernelspec": {
   "display_name": "Python 3 (ipykernel)",
   "language": "python",
   "name": "python3"
  },
  "language_info": {
   "codemirror_mode": {
    "name": "ipython",
    "version": 3
   },
   "file_extension": ".py",
   "mimetype": "text/x-python",
   "name": "python",
   "nbconvert_exporter": "python",
   "pygments_lexer": "ipython3",
   "version": "3.12.5"
  }
 },
 "nbformat": 4,
 "nbformat_minor": 5
}
