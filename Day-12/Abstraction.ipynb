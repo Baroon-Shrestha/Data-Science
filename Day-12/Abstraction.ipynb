{
 "cells": [
  {
   "cell_type": "code",
   "execution_count": 34,
   "id": "c7343cce-0e66-4d00-b155-fd85dd4f9542",
   "metadata": {},
   "outputs": [],
   "source": [
    "from abc import ABC, abstractmethod\n",
    "\n",
    "class Shape(ABC):\n",
    "    @abstractmethod\n",
    "    def area(self):\n",
    "        pass\n",
    "\n",
    "    @abstractmethod\n",
    "    def perimeter(self):\n",
    "        pass\n",
    "\n",
    "    @abstractmethod\n",
    "    def volume(self):\n",
    "        pass\n",
    "\n",
    "class Rectangle(Shape):\n",
    "    def __init__(self, length, height):\n",
    "        self.length = length\n",
    "        self.height = height\n",
    "\n",
    "    def area(self):\n",
    "        return self.length * self.height\n",
    "        \n",
    "    def perimeter(self):\n",
    "        return 2 * (self.length + self.height)\n",
    "        \n",
    "    def volume(self):\n",
    "        return \"not possible\"\n"
   ]
  },
  {
   "cell_type": "code",
   "execution_count": 38,
   "id": "4f9bf923-6d1d-4f55-916b-1dd73660cf2f",
   "metadata": {},
   "outputs": [
    {
     "data": {
      "text/plain": [
       "100"
      ]
     },
     "execution_count": 38,
     "metadata": {},
     "output_type": "execute_result"
    }
   ],
   "source": [
    "obj = Rectangle(10,10)\n",
    "obj.area()"
   ]
  },
  {
   "cell_type": "code",
   "execution_count": null,
   "id": "dd969fc8-65f3-470c-bdfa-895529832946",
   "metadata": {},
   "outputs": [],
   "source": []
  },
  {
   "cell_type": "code",
   "execution_count": null,
   "id": "64774524-1408-4337-b534-9896c93b57e9",
   "metadata": {},
   "outputs": [],
   "source": []
  },
  {
   "cell_type": "code",
   "execution_count": null,
   "id": "e0c88a01-226d-4605-8a03-b93692645610",
   "metadata": {},
   "outputs": [],
   "source": []
  }
 ],
 "metadata": {
  "kernelspec": {
   "display_name": "Python 3 (ipykernel)",
   "language": "python",
   "name": "python3"
  },
  "language_info": {
   "codemirror_mode": {
    "name": "ipython",
    "version": 3
   },
   "file_extension": ".py",
   "mimetype": "text/x-python",
   "name": "python",
   "nbconvert_exporter": "python",
   "pygments_lexer": "ipython3",
   "version": "3.12.5"
  }
 },
 "nbformat": 4,
 "nbformat_minor": 5
}
