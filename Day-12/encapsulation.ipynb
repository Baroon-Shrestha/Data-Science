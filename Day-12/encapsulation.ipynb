{
 "cells": [
  {
   "cell_type": "code",
   "execution_count": 31,
   "id": "e06280ad-6f55-454e-88bb-a900bba27f04",
   "metadata": {},
   "outputs": [],
   "source": [
    "class Example:\n",
    "    def __init__(self, num1, num2):\n",
    "        self.__num1 = num1\n",
    "        self.__num2 = num2\n",
    "\n",
    "    def set_values1(self, num1):\n",
    "        return self__num1\n",
    "    def set_values2(self, num2):\n",
    "        return self__num2\n",
    "    def get_sum(self):\n",
    "        return self.__num1 + self.__num2"
   ]
  },
  {
   "cell_type": "code",
   "execution_count": 32,
   "id": "ce505f48-e1fb-4dd9-8a7b-5c8d5e1ecf99",
   "metadata": {},
   "outputs": [],
   "source": [
    "obj = Example(10,10)"
   ]
  },
  {
   "cell_type": "code",
   "execution_count": 34,
   "id": "a58b893c-904e-460b-bbfc-38e062e361d9",
   "metadata": {},
   "outputs": [
    {
     "data": {
      "text/plain": [
       "20"
      ]
     },
     "execution_count": 34,
     "metadata": {},
     "output_type": "execute_result"
    }
   ],
   "source": [
    "obj.get_sum()"
   ]
  },
  {
   "cell_type": "code",
   "execution_count": null,
   "id": "133d6902-0f73-4c35-b2ee-df90dde48fa4",
   "metadata": {},
   "outputs": [],
   "source": []
  }
 ],
 "metadata": {
  "kernelspec": {
   "display_name": "Python 3 (ipykernel)",
   "language": "python",
   "name": "python3"
  },
  "language_info": {
   "codemirror_mode": {
    "name": "ipython",
    "version": 3
   },
   "file_extension": ".py",
   "mimetype": "text/x-python",
   "name": "python",
   "nbconvert_exporter": "python",
   "pygments_lexer": "ipython3",
   "version": "3.12.5"
  }
 },
 "nbformat": 4,
 "nbformat_minor": 5
}
