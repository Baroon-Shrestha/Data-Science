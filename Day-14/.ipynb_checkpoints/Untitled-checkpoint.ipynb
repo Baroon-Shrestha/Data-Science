{
 "cells": [
  {
   "cell_type": "code",
   "execution_count": 5,
   "id": "a0fd1010-3aff-4db3-9c40-432f3740b01a",
   "metadata": {},
   "outputs": [
    {
     "name": "stdout",
     "output_type": "stream",
     "text": [
      "num is odd\n"
     ]
    }
   ],
   "source": [
    "num = 11\n",
    "\n",
    "print((\"num is even\") if num%2 == 0 else (\"num is odd\"))"
   ]
  },
  {
   "cell_type": "code",
   "execution_count": null,
   "id": "f4ca2f2d-a911-43fb-8d4a-ba965a2385fa",
   "metadata": {},
   "outputs": [],
   "source": []
  }
 ],
 "metadata": {
  "kernelspec": {
   "display_name": "Python 3 (ipykernel)",
   "language": "python",
   "name": "python3"
  },
  "language_info": {
   "codemirror_mode": {
    "name": "ipython",
    "version": 3
   },
   "file_extension": ".py",
   "mimetype": "text/x-python",
   "name": "python",
   "nbconvert_exporter": "python",
   "pygments_lexer": "ipython3",
   "version": "3.12.5"
  }
 },
 "nbformat": 4,
 "nbformat_minor": 5
}
