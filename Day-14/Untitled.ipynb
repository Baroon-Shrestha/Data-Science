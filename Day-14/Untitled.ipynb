{
 "cells": [
  {
   "cell_type": "code",
   "execution_count": 5,
   "id": "a0fd1010-3aff-4db3-9c40-432f3740b01a",
   "metadata": {},
   "outputs": [
    {
     "name": "stdout",
     "output_type": "stream",
     "text": [
      "num is odd\n"
     ]
    }
   ],
   "source": [
    "num = 11\n",
    "\n",
    "print((\"num is even\") if num%2 == 0 else (\"num is odd\"))"
   ]
  },
  {
   "cell_type": "code",
   "execution_count": 15,
   "id": "f4ca2f2d-a911-43fb-8d4a-ba965a2385fa",
   "metadata": {},
   "outputs": [
    {
     "data": {
      "text/plain": [
       "21"
      ]
     },
     "execution_count": 15,
     "metadata": {},
     "output_type": "execute_result"
    }
   ],
   "source": [
    "import datetime\n",
    "\n",
    "date1 = datetime.date(2024,2,21)\n",
    "\n",
    "date1.day"
   ]
  },
  {
   "cell_type": "code",
   "execution_count": 18,
   "id": "7d0217b4-5401-4352-b5d2-80a17c734eac",
   "metadata": {},
   "outputs": [
    {
     "name": "stdout",
     "output_type": "stream",
     "text": [
      "2024-02-21 12:30:45\n"
     ]
    }
   ],
   "source": [
    "dt = datetime.datetime(2024,2,21,12,30,45)\n",
    "print(dt)"
   ]
  },
  {
   "cell_type": "code",
   "execution_count": 21,
   "id": "bdbbd95a-4ede-4b86-858f-a59a2957e0d0",
   "metadata": {},
   "outputs": [
    {
     "name": "stdout",
     "output_type": "stream",
     "text": [
      "7 days, 3:15:00\n"
     ]
    }
   ],
   "source": [
    "td = datetime.timedelta(days = 7, hours =3, minutes = 15)\n",
    "print(td)"
   ]
  },
  {
   "cell_type": "code",
   "execution_count": 24,
   "id": "224b2732-4ddf-48fa-a62b-8e47a621ee17",
   "metadata": {},
   "outputs": [],
   "source": [
    "newdate = dt + td"
   ]
  },
  {
   "cell_type": "code",
   "execution_count": 26,
   "id": "24e0a66b-4a87-4609-9f20-a01433b5efce",
   "metadata": {},
   "outputs": [
    {
     "name": "stdout",
     "output_type": "stream",
     "text": [
      "2024-02-28 15:45:45\n"
     ]
    }
   ],
   "source": [
    "print(newdate)"
   ]
  },
  {
   "cell_type": "code",
   "execution_count": 32,
   "id": "fe9a9979-2ad0-49ad-9e93-ac82ed8eeded",
   "metadata": {},
   "outputs": [
    {
     "name": "stdout",
     "output_type": "stream",
     "text": [
      "2024-09-16\n"
     ]
    }
   ],
   "source": [
    "print(datetime.date.today())\n"
   ]
  },
  {
   "cell_type": "code",
   "execution_count": 172,
   "id": "875c695e-9bd6-4256-bacf-16212b674646",
   "metadata": {},
   "outputs": [
    {
     "name": "stdout",
     "output_type": "stream",
     "text": [
      "2024-09-16 08:30:21.426503\n"
     ]
    }
   ],
   "source": [
    "print(datetime.datetime.now())"
   ]
  },
  {
   "cell_type": "code",
   "execution_count": 173,
   "id": "8e9e17ac-20b2-439b-8039-5fd8c950ebec",
   "metadata": {},
   "outputs": [],
   "source": [
    "import time"
   ]
  },
  {
   "cell_type": "code",
   "execution_count": 175,
   "id": "c9186497-77de-45d1-95ad-56a3a4aa112b",
   "metadata": {},
   "outputs": [
    {
     "data": {
      "text/plain": [
       "1726455441.353607"
      ]
     },
     "execution_count": 175,
     "metadata": {},
     "output_type": "execute_result"
    }
   ],
   "source": [
    "t = time.time()\n",
    "t"
   ]
  },
  {
   "cell_type": "code",
   "execution_count": 176,
   "id": "849a5c1f-ee42-4a4a-8f7e-2520504a694d",
   "metadata": {},
   "outputs": [
    {
     "name": "stdout",
     "output_type": "stream",
     "text": [
      "loading....\n",
      "Completed\n"
     ]
    }
   ],
   "source": [
    "print(\"loading....\")\n",
    "time.sleep(5)\n",
    "print(\"Completed\")"
   ]
  },
  {
   "cell_type": "code",
   "execution_count": 178,
   "id": "fdf90003-f314-4f84-9e2a-a720ef9a059e",
   "metadata": {},
   "outputs": [
    {
     "name": "stdout",
     "output_type": "stream",
     "text": [
      "started\n",
      "Completed\n",
      "5.005842924118042\n"
     ]
    }
   ],
   "source": [
    "startTime = time.time()\n",
    "print(\"started\")\n",
    "\n",
    "time.sleep(5)\n",
    "print(\"Completed\")\n",
    "endtime = time.time()\n",
    "\n",
    "print(endtime-startTime)"
   ]
  },
  {
   "cell_type": "code",
   "execution_count": null,
   "id": "ddeff661-303e-4e0b-b8f3-7f7bde7cb6c1",
   "metadata": {},
   "outputs": [],
   "source": []
  }
 ],
 "metadata": {
  "kernelspec": {
   "display_name": "Python 3 (ipykernel)",
   "language": "python",
   "name": "python3"
  },
  "language_info": {
   "codemirror_mode": {
    "name": "ipython",
    "version": 3
   },
   "file_extension": ".py",
   "mimetype": "text/x-python",
   "name": "python",
   "nbconvert_exporter": "python",
   "pygments_lexer": "ipython3",
   "version": "3.12.5"
  }
 },
 "nbformat": 4,
 "nbformat_minor": 5
}
