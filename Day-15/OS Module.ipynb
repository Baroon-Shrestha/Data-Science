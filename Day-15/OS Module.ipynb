{
 "cells": [
  {
   "cell_type": "code",
   "execution_count": 2,
   "id": "c4be483b-5132-42dc-b42a-245aac75d059",
   "metadata": {},
   "outputs": [
    {
     "name": "stdout",
     "output_type": "stream",
     "text": [
      "/Users/baroonshrestha/Desktop/Data Science/Day-15\n"
     ]
    }
   ],
   "source": [
    "import os\n",
    "\n",
    "current_Wd = os.getcwd()\n",
    "print(current_Wd)"
   ]
  },
  {
   "cell_type": "code",
   "execution_count": 3,
   "id": "c4c11e64-0825-4fe9-9696-36a72e4216a9",
   "metadata": {},
   "outputs": [],
   "source": [
    "if not os.path.exists(\"new_dic\"):\n",
    "    os.mkdir(\"new_dic\")"
   ]
  },
  {
   "cell_type": "code",
   "execution_count": 13,
   "id": "8d1ea54d-a9d4-4ce0-ba88-cdcbeffef1b7",
   "metadata": {},
   "outputs": [
    {
     "data": {
      "text/plain": [
       "'/Users/baroonshrestha/Desktop/Data Science/Day-15/new_dic'"
      ]
     },
     "execution_count": 13,
     "metadata": {},
     "output_type": "execute_result"
    }
   ],
   "source": [
    "\n",
    "os.getcwd()"
   ]
  },
  {
   "cell_type": "code",
   "execution_count": 20,
   "id": "cf46dd93-12bf-4861-b383-263eb011530e",
   "metadata": {},
   "outputs": [],
   "source": [
    "os.chdir(\"..\")"
   ]
  },
  {
   "cell_type": "code",
   "execution_count": 21,
   "id": "81121daa-bc49-4a0d-a244-2b0866622e5b",
   "metadata": {},
   "outputs": [
    {
     "data": {
      "text/plain": [
       "'/Users/baroonshrestha/Desktop/Data Science/Day-15'"
      ]
     },
     "execution_count": 21,
     "metadata": {},
     "output_type": "execute_result"
    }
   ],
   "source": [
    "os.getcwd()"
   ]
  },
  {
   "cell_type": "code",
   "execution_count": 22,
   "id": "8c93bd7a-d49a-4286-8e75-8a3ff0ffed7b",
   "metadata": {},
   "outputs": [
    {
     "name": "stdout",
     "output_type": "stream",
     "text": [
      "current working directory : /Users/baroonshrestha/Desktop/Data Science/Day-15/new_dic\n"
     ]
    }
   ],
   "source": [
    "os.chdir(\"new_dic\")\n",
    "print(f\"current working directory : {os.getcwd()}\")"
   ]
  },
  {
   "cell_type": "code",
   "execution_count": 23,
   "id": "7965d81b-4865-4be9-8e37-f1da406a8e46",
   "metadata": {},
   "outputs": [],
   "source": [
    "os.chdir(\"..\")"
   ]
  },
  {
   "cell_type": "code",
   "execution_count": 24,
   "id": "401c1c8b-a5fe-4f50-98eb-a5f7d6a0eea8",
   "metadata": {},
   "outputs": [],
   "source": [
    "os.chdir(\"..\")"
   ]
  },
  {
   "cell_type": "code",
   "execution_count": 25,
   "id": "141f82a2-820c-45fb-8a38-b32e3b125ea0",
   "metadata": {},
   "outputs": [
    {
     "data": {
      "text/plain": [
       "'/Users/baroonshrestha/Desktop/Data Science'"
      ]
     },
     "execution_count": 25,
     "metadata": {},
     "output_type": "execute_result"
    }
   ],
   "source": [
    "os.getcwd()"
   ]
  },
  {
   "cell_type": "code",
   "execution_count": 27,
   "id": "7ca82eec-6233-4a79-8d04-9cc3d9744654",
   "metadata": {},
   "outputs": [],
   "source": [
    "os.chdir(\"Day-15\")"
   ]
  },
  {
   "cell_type": "code",
   "execution_count": 28,
   "id": "4eff173d-dd09-4c29-9212-55c05d124467",
   "metadata": {},
   "outputs": [
    {
     "data": {
      "text/plain": [
       "'/Users/baroonshrestha/Desktop/Data Science/Day-15'"
      ]
     },
     "execution_count": 28,
     "metadata": {},
     "output_type": "execute_result"
    }
   ],
   "source": [
    "os.getcwd()"
   ]
  },
  {
   "cell_type": "code",
   "execution_count": 29,
   "id": "3e30f2a2-d816-40c0-9ce1-45b7726385b5",
   "metadata": {},
   "outputs": [
    {
     "data": {
      "text/plain": [
       "['new_dic', 'Untitled.ipynb', '.ipynb_checkpoints']"
      ]
     },
     "execution_count": 29,
     "metadata": {},
     "output_type": "execute_result"
    }
   ],
   "source": [
    "os.listdir(\".\")"
   ]
  },
  {
   "cell_type": "code",
   "execution_count": 31,
   "id": "74a071af-53a3-4b99-8cb5-36621c559bed",
   "metadata": {},
   "outputs": [
    {
     "name": "stdout",
     "output_type": "stream",
     "text": [
      "Untitled.ipynb\n",
      "\u001b[34mnew_dic\u001b[m\u001b[m\n"
     ]
    },
    {
     "data": {
      "text/plain": [
       "0"
      ]
     },
     "execution_count": 31,
     "metadata": {},
     "output_type": "execute_result"
    }
   ],
   "source": [
    "os.system(\"ls\")"
   ]
  },
  {
   "cell_type": "code",
   "execution_count": 32,
   "id": "88e9c164-9fdc-4e11-b8b0-da808d58aaf6",
   "metadata": {},
   "outputs": [],
   "source": [
    "os.chdir(\"..\")"
   ]
  },
  {
   "cell_type": "code",
   "execution_count": 33,
   "id": "99a3014d-e344-474b-9fa6-161011352fd2",
   "metadata": {},
   "outputs": [
    {
     "name": "stdout",
     "output_type": "stream",
     "text": [
      "\u001b[34mAssignments\u001b[m\u001b[m\n",
      "\u001b[34mDay-01\u001b[m\u001b[m\n",
      "\u001b[34mDay-05\u001b[m\u001b[m\n",
      "\u001b[34mDay-06\u001b[m\u001b[m\n",
      "\u001b[34mDay-07\u001b[m\u001b[m\n",
      "\u001b[34mDay-08\u001b[m\u001b[m\n",
      "\u001b[34mDay-09\u001b[m\u001b[m\n",
      "\u001b[34mDay-10\u001b[m\u001b[m\n",
      "\u001b[34mDay-11\u001b[m\u001b[m\n",
      "\u001b[34mDay-12\u001b[m\u001b[m\n",
      "\u001b[34mDay-14\u001b[m\u001b[m\n",
      "\u001b[34mDay-15\u001b[m\u001b[m\n",
      "\u001b[34mnewEnv\u001b[m\u001b[m\n",
      "\u001b[34mself tryouts\u001b[m\u001b[m\n"
     ]
    },
    {
     "data": {
      "text/plain": [
       "0"
      ]
     },
     "execution_count": 33,
     "metadata": {},
     "output_type": "execute_result"
    }
   ],
   "source": [
    "os.system(\"ls\")"
   ]
  },
  {
   "cell_type": "code",
   "execution_count": 36,
   "id": "66dfdce2-79fb-4374-8be8-49f7f6a3379d",
   "metadata": {},
   "outputs": [
    {
     "name": "stdout",
     "output_type": "stream",
     "text": [
      "\u001b[34mAssignments\u001b[m\u001b[m\n",
      "\u001b[34mDay-01\u001b[m\u001b[m\n",
      "\u001b[34mDay-05\u001b[m\u001b[m\n",
      "\u001b[34mDay-06\u001b[m\u001b[m\n",
      "\u001b[34mDay-07\u001b[m\u001b[m\n",
      "\u001b[34mDay-08\u001b[m\u001b[m\n",
      "\u001b[34mDay-09\u001b[m\u001b[m\n",
      "\u001b[34mDay-10\u001b[m\u001b[m\n",
      "\u001b[34mDay-11\u001b[m\u001b[m\n",
      "\u001b[34mDay-12\u001b[m\u001b[m\n",
      "\u001b[34mDay-14\u001b[m\u001b[m\n",
      "\u001b[34mDay-15\u001b[m\u001b[m\n",
      "\u001b[34mnewEnv\u001b[m\u001b[m\n",
      "\u001b[34mself tryouts\u001b[m\u001b[m\n",
      "\n"
     ]
    }
   ],
   "source": [
    "output = os.popen(\"ls\").read()\n",
    "print(output)"
   ]
  },
  {
   "cell_type": "code",
   "execution_count": 55,
   "id": "a19ad80b-7c7a-4f29-8410-e254fbb7f353",
   "metadata": {},
   "outputs": [
    {
     "name": "stdout",
     "output_type": "stream",
     "text": [
      "/Users/baroonshrestha\n"
     ]
    }
   ],
   "source": [
    "\n",
    "print(os.getenv(\"HOME\"))"
   ]
  },
  {
   "cell_type": "code",
   "execution_count": 49,
   "id": "d58af5dd-06c2-4c28-9f0c-8927bfa4cfcc",
   "metadata": {},
   "outputs": [],
   "source": [
    "os.putenv(\"TEST\",\"Test variable\")"
   ]
  },
  {
   "cell_type": "code",
   "execution_count": 57,
   "id": "b3c0c244-65fa-433e-9552-2da7ec34f94d",
   "metadata": {},
   "outputs": [
    {
     "name": "stdout",
     "output_type": "stream",
     "text": [
      "None\n"
     ]
    }
   ],
   "source": [
    "env = os.getenv(\"TEST\")\n",
    "print(env)"
   ]
  },
  {
   "cell_type": "code",
   "execution_count": null,
   "id": "da35c3b6-740a-47fe-9f88-c14196173666",
   "metadata": {},
   "outputs": [],
   "source": []
  }
 ],
 "metadata": {
  "kernelspec": {
   "display_name": "Python 3 (ipykernel)",
   "language": "python",
   "name": "python3"
  },
  "language_info": {
   "codemirror_mode": {
    "name": "ipython",
    "version": 3
   },
   "file_extension": ".py",
   "mimetype": "text/x-python",
   "name": "python",
   "nbconvert_exporter": "python",
   "pygments_lexer": "ipython3",
   "version": "3.12.5"
  }
 },
 "nbformat": 4,
 "nbformat_minor": 5
}
