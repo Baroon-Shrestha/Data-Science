{
 "cells": [
  {
   "cell_type": "code",
   "execution_count": 137,
   "id": "29bfa486-467c-4f14-9296-66efcd7557a5",
   "metadata": {},
   "outputs": [
    {
     "name": "stdout",
     "output_type": "stream",
     "text": [
      "0.347660936024079\n",
      "5\n",
      "-0.7141122109120441\n",
      "7\n",
      "1\n"
     ]
    }
   ],
   "source": [
    "import random\n",
    "\n",
    "print(random.random())\n",
    "print(random.randint(1,5))\n",
    "print(random.uniform(-1,1))\n",
    "print(random.randrange(5,10))\n",
    "print(random.randrange(1,10,2))"
   ]
  },
  {
   "cell_type": "code",
   "execution_count": 148,
   "id": "62929a9a-84a3-4f15-9174-e06585834fa8",
   "metadata": {},
   "outputs": [
    {
     "name": "stdout",
     "output_type": "stream",
     "text": [
      "ace\n"
     ]
    }
   ],
   "source": [
    "import random\n",
    "\n",
    "card = [\"ace\",\"king\",\"queen\",\"ten\",\"nine\",\"jack\"]\n",
    "\n",
    "print(random.choice(card))"
   ]
  },
  {
   "cell_type": "code",
   "execution_count": 159,
   "id": "0028cb79-30b5-41fd-908f-669cdb4c0599",
   "metadata": {},
   "outputs": [
    {
     "name": "stdout",
     "output_type": "stream",
     "text": [
      "['ten', 'ace']\n"
     ]
    }
   ],
   "source": [
    "print(random.sample(card,2))"
   ]
  },
  {
   "cell_type": "code",
   "execution_count": 213,
   "id": "ae6a73f3-f657-483a-ae93-f22674f19911",
   "metadata": {},
   "outputs": [
    {
     "name": "stdout",
     "output_type": "stream",
     "text": [
      "['nine', 'jack', 'ten', 'king', 'queen', 'ace']\n"
     ]
    }
   ],
   "source": [
    "random.shuffle(card)\n",
    "print(card)"
   ]
  },
  {
   "cell_type": "code",
   "execution_count": 233,
   "id": "e665b66e-327e-4abc-84fe-62b8bac1cafc",
   "metadata": {},
   "outputs": [
    {
     "name": "stdout",
     "output_type": "stream",
     "text": [
      "8 8 3\n"
     ]
    }
   ],
   "source": [
    "import random\n",
    "\n",
    "\n",
    "state = random.getstate()\n",
    "\n",
    "a = random.randint(1,10)\n",
    "b = random.randint(1,10)\n",
    "c = random.randint(1,10)\n",
    "\n",
    "print(a,b,c)"
   ]
  },
  {
   "cell_type": "code",
   "execution_count": 234,
   "id": "e00d2742-b74f-4705-8d79-913333aa0571",
   "metadata": {},
   "outputs": [
    {
     "name": "stdout",
     "output_type": "stream",
     "text": [
      "8 8 3\n"
     ]
    }
   ],
   "source": [
    "random.setstate(state)\n",
    "\n",
    "d = random.randint(1,10)\n",
    "e = random.randint(1,10)\n",
    "f = random.randint(1,10)\n",
    "\n",
    "print(d,e,f)"
   ]
  },
  {
   "cell_type": "code",
   "execution_count": null,
   "id": "3fadcc08-352d-48da-8341-032ca4306bfb",
   "metadata": {},
   "outputs": [],
   "source": []
  },
  {
   "cell_type": "code",
   "execution_count": null,
   "id": "20aa109b-c59e-4a3c-83cd-84808bdd1c34",
   "metadata": {},
   "outputs": [],
   "source": []
  }
 ],
 "metadata": {
  "kernelspec": {
   "display_name": "Python 3 (ipykernel)",
   "language": "python",
   "name": "python3"
  },
  "language_info": {
   "codemirror_mode": {
    "name": "ipython",
    "version": 3
   },
   "file_extension": ".py",
   "mimetype": "text/x-python",
   "name": "python",
   "nbconvert_exporter": "python",
   "pygments_lexer": "ipython3",
   "version": "3.12.5"
  }
 },
 "nbformat": 4,
 "nbformat_minor": 5
}
