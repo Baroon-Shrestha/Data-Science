{
 "cells": [
  {
   "cell_type": "code",
   "execution_count": 2,
   "id": "aae9ae2f-88e6-427c-9c1b-9614e72ee7f7",
   "metadata": {},
   "outputs": [
    {
     "name": "stdin",
     "output_type": "stream",
     "text": [
      "enter a number :  a\n"
     ]
    },
    {
     "name": "stdout",
     "output_type": "stream",
     "text": [
      "Invalid input\n"
     ]
    }
   ],
   "source": [
    "try:\n",
    "    num = int(input(\"enter a number : \"))\n",
    "    print(num)\n",
    "\n",
    "except ValueError:\n",
    "    print(\"Invalid input\")"
   ]
  },
  {
   "cell_type": "code",
   "execution_count": 6,
   "id": "732eca52-94cd-4681-a925-c45f39e420ae",
   "metadata": {},
   "outputs": [
    {
     "name": "stdin",
     "output_type": "stream",
     "text": [
      "enter a number :  1\n"
     ]
    },
    {
     "name": "stdout",
     "output_type": "stream",
     "text": [
      "1\n",
      "runs when try block is correct\n"
     ]
    }
   ],
   "source": [
    "try:\n",
    "    num = int(input(\"enter a number : \"))\n",
    "    print(num)\n",
    "\n",
    "except ValueError:\n",
    "    print(\"Invalid input\")\n",
    "\n",
    "else:\n",
    "    print(\"runs when try block is correct\")"
   ]
  },
  {
   "cell_type": "code",
   "execution_count": 7,
   "id": "3f7407a9-9b02-4979-a904-3069c12bd655",
   "metadata": {},
   "outputs": [
    {
     "name": "stdin",
     "output_type": "stream",
     "text": [
      "enter a number :  a\n"
     ]
    },
    {
     "name": "stdout",
     "output_type": "stream",
     "text": [
      "Invalid input\n",
      "runs everytime\n"
     ]
    }
   ],
   "source": [
    "try:\n",
    "    num = int(input(\"enter a number : \"))\n",
    "    print(num)\n",
    "\n",
    "except ValueError:\n",
    "    print(\"Invalid input\")\n",
    "\n",
    "else:\n",
    "    print(\"runs when try block is correct\")\n",
    "\n",
    "finally:\n",
    "    print(\"runs everytime\")"
   ]
  },
  {
   "cell_type": "markdown",
   "id": "93589dd1-43b7-4e93-acee-b7c32edffaf7",
   "metadata": {},
   "source": [
    "## Custom Exception: \n",
    "\n",
    "Define a custom exception NegativeNumberError. Write a function sqrt_of_number that calculates the square root of a number but raises NegativeNumberError if the input is a negative number.\n",
    "\n",
    "```python\n",
    "class NegativeNumberError(Exception):\n",
    "    pass\n",
    "\n",
    "def sqrt_of_number(x):\n",
    "    # Your code here\n",
    "```"
   ]
  },
  {
   "cell_type": "code",
   "execution_count": 10,
   "id": "f6c6b243-e8df-4eba-8a8e-4413c630a8d0",
   "metadata": {},
   "outputs": [
    {
     "ename": "ValueError",
     "evalue": "math domain error",
     "output_type": "error",
     "traceback": [
      "\u001b[0;31m---------------------------------------------------------------------------\u001b[0m",
      "\u001b[0;31mValueError\u001b[0m                                Traceback (most recent call last)",
      "Cell \u001b[0;32mIn[10], line 3\u001b[0m\n\u001b[1;32m      1\u001b[0m \u001b[38;5;28;01mimport\u001b[39;00m \u001b[38;5;21;01mmath\u001b[39;00m\n\u001b[0;32m----> 3\u001b[0m \u001b[43mmath\u001b[49m\u001b[38;5;241;43m.\u001b[39;49m\u001b[43msqrt\u001b[49m\u001b[43m(\u001b[49m\u001b[38;5;241;43m-\u001b[39;49m\u001b[38;5;241;43m4\u001b[39;49m\u001b[43m)\u001b[49m\n",
      "\u001b[0;31mValueError\u001b[0m: math domain error"
     ]
    }
   ],
   "source": [
    "\n",
    "\n",
    "math.sqrt(-4)"
   ]
  },
  {
   "cell_type": "code",
   "execution_count": 11,
   "id": "61813236-0b41-4877-bf2d-234052a3924b",
   "metadata": {},
   "outputs": [],
   "source": []
  },
  {
   "cell_type": "code",
   "execution_count": 35,
   "id": "94bcb6a7-3d66-48b2-84f4-2f7efd7e7208",
   "metadata": {},
   "outputs": [],
   "source": [
    "#use try-except block while calling the function not within the funciton\n",
    "import math\n",
    "\n",
    "class NegativeNumberError(Exception):\n",
    "    pass\n",
    "\n",
    "def sqrt_of_number(num):\n",
    "    try:\n",
    "        if num < 0:\n",
    "            raise NegativeNumberError(\"cannot get square root of negative number\")\n",
    "        else:\n",
    "            return math.sqrt(num)\n",
    "    except NegativeNumberError as ex:\n",
    "        print(ex)"
   ]
  },
  {
   "cell_type": "code",
   "execution_count": 36,
   "id": "97814989-0008-4252-9104-3861d3a0f814",
   "metadata": {},
   "outputs": [
    {
     "name": "stdout",
     "output_type": "stream",
     "text": [
      "cannot get square root of negative number\n"
     ]
    }
   ],
   "source": [
    "sqrt_of_number(-25)"
   ]
  },
  {
   "cell_type": "code",
   "execution_count": 34,
   "id": "3273a2c2-fcb6-45e2-81d5-aa69ee06f54d",
   "metadata": {},
   "outputs": [
    {
     "name": "stdout",
     "output_type": "stream",
     "text": [
      "cannot get square root of negative number\n"
     ]
    }
   ],
   "source": [
    "import math\n",
    "\n",
    "\n",
    "class NegativeNumberError(Exception):\n",
    "    pass\n",
    "\n",
    "def sqrt_of_number(num):\n",
    "    if num < 0:\n",
    "        raise NegativeNumberError(\"cannot get square root of negative number\")\n",
    "        \n",
    "    return math.sqrt(num\n",
    "\n",
    "try :\n",
    "    print(sqrt_of_number(-25))\n",
    "except NegativeNumberError as ex:\n",
    "    print(ex)"
   ]
  }
 ],
 "metadata": {
  "kernelspec": {
   "display_name": "Python 3 (ipykernel)",
   "language": "python",
   "name": "python3"
  },
  "language_info": {
   "codemirror_mode": {
    "name": "ipython",
    "version": 3
   },
   "file_extension": ".py",
   "mimetype": "text/x-python",
   "name": "python",
   "nbconvert_exporter": "python",
   "pygments_lexer": "ipython3",
   "version": "3.12.5"
  }
 },
 "nbformat": 4,
 "nbformat_minor": 5
}
