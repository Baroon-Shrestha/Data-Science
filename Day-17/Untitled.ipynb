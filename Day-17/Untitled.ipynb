{
 "cells": [
  {
   "cell_type": "code",
   "execution_count": 20,
   "id": "66e2db31-11f0-4195-99ca-e9a0c1fb96e8",
   "metadata": {},
   "outputs": [
    {
     "name": "stdout",
     "output_type": "stream",
     "text": [
      "before func exection\n",
      "hello\n",
      "after func exection\n"
     ]
    }
   ],
   "source": [
    "def my_dec(func):\n",
    "    def Wrapper():\n",
    "        print(\"before func exection\")\n",
    "        func()\n",
    "        print(\"after func exection\")\n",
    "    return Wrapper\n",
    "@my_dec\n",
    "def greet():\n",
    "    print(\"hello\")\n",
    "    \n",
    "greet()"
   ]
  },
  {
   "cell_type": "code",
   "execution_count": 46,
   "id": "02c524ee-8214-44a8-baf5-fbf19aa8c516",
   "metadata": {},
   "outputs": [],
   "source": [
    "def verify_user(func):\n",
    "    def wrapper(email):\n",
    "        if email.endswith(\"@vrit.com\"):\n",
    "            func(email)\n",
    "        else:\n",
    "            print(\"email not verified\")\n",
    "    return wrapper\n",
    "            "
   ]
  },
  {
   "cell_type": "code",
   "execution_count": 47,
   "id": "53df27a2-8a51-4892-9ac6-abca21943a3d",
   "metadata": {},
   "outputs": [],
   "source": [
    "@verify_user\n",
    "def login(user_email):\n",
    "    print(\"logging in....\")\n",
    "    print(f\"user with email {user_email}, logged in\")"
   ]
  },
  {
   "cell_type": "code",
   "execution_count": 48,
   "id": "92d9c4ab-d011-447a-9ae3-f8c9295830aa",
   "metadata": {},
   "outputs": [
    {
     "name": "stdout",
     "output_type": "stream",
     "text": [
      "email not verified\n"
     ]
    }
   ],
   "source": [
    "login(\"test@vit.com\")"
   ]
  },
  {
   "cell_type": "code",
   "execution_count": 51,
   "id": "350343d8-5cc7-4e89-8e40-3dc0f07948f4",
   "metadata": {},
   "outputs": [
    {
     "name": "stdout",
     "output_type": "stream",
     "text": [
      "5.005444049835205\n"
     ]
    }
   ],
   "source": [
    "import time\n",
    "\n",
    "\n",
    "start = time.time()\n",
    "\n",
    "time.sleep(5)\n",
    "\n",
    "end = time.time()\n",
    "\n",
    "print(end - start)"
   ]
  },
  {
   "cell_type": "markdown",
   "id": "de582eaa-9c46-4e03-b1c7-e335c29f6da8",
   "metadata": {},
   "source": [
    "## Function Timing Decorator: \n",
    "\n",
    "Write a decorator `time_it` that measures the time it takes for a function to execute. \n",
    "\n",
    "*Apply it to a function slow_function that sleeps for 2 seconds and prints \"Done sleeping\".*"
   ]
  },
  {
   "cell_type": "code",
   "execution_count": 85,
   "id": "4d481707-4634-4f5f-87aa-a97d77e60ae2",
   "metadata": {},
   "outputs": [
    {
     "name": "stdout",
     "output_type": "stream",
     "text": [
      "done sleeping\n",
      "execution time 2.005373954772949\n",
      "25\n",
      "execution time 1.0054101943969727\n"
     ]
    }
   ],
   "source": [
    "import time\n",
    "\n",
    "def time_dec(func):\n",
    "    def wrapper(*args, **kwargs):\n",
    "        start = time.time()\n",
    "        func(*args, **kwargs)\n",
    "        end =time.time()\n",
    "        print(f\"execution time {end - start}\")\n",
    "    return wrapper\n",
    "\n",
    "@time_dec\n",
    "def slow_down(a):\n",
    "    time.sleep(2)\n",
    "    print(\"done sleeping\")\n",
    "\n",
    "@time_dec\n",
    "def sq(a):\n",
    "    time.sleep(1)\n",
    "    print(a**2)\n",
    "    \n",
    "slow_down(2)\n",
    "sq(5)"
   ]
  },
  {
   "cell_type": "code",
   "execution_count": null,
   "id": "86982aaf-d3b1-436a-8c2c-7cd6d8bc120c",
   "metadata": {},
   "outputs": [],
   "source": []
  },
  {
   "cell_type": "code",
   "execution_count": 62,
   "id": "54ee3583-6b5b-4b86-a2d3-3e46c9cee010",
   "metadata": {},
   "outputs": [
    {
     "name": "stdout",
     "output_type": "stream",
     "text": [
      "4\n"
     ]
    }
   ],
   "source": []
  },
  {
   "cell_type": "code",
   "execution_count": null,
   "id": "1cc3f353-eddf-4caa-a1ad-b7c7d1a0f41b",
   "metadata": {},
   "outputs": [],
   "source": []
  }
 ],
 "metadata": {
  "kernelspec": {
   "display_name": "Python 3 (ipykernel)",
   "language": "python",
   "name": "python3"
  },
  "language_info": {
   "codemirror_mode": {
    "name": "ipython",
    "version": 3
   },
   "file_extension": ".py",
   "mimetype": "text/x-python",
   "name": "python",
   "nbconvert_exporter": "python",
   "pygments_lexer": "ipython3",
   "version": "3.12.5"
  }
 },
 "nbformat": 4,
 "nbformat_minor": 5
}
