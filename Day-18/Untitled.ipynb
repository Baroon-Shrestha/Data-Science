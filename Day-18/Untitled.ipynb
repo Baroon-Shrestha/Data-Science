{
 "cells": [
  {
   "cell_type": "code",
   "execution_count": 20,
   "id": "9b2d0483-89f7-436b-9f3e-ce21bf756cc9",
   "metadata": {},
   "outputs": [],
   "source": [
    "class Intro:\n",
    "    def __init__(self,name):\n",
    "        self.__name = name\n",
    "\n",
    "    @property\n",
    "    def get_name(self):\n",
    "        print(\"getting name...\")\n",
    "        return self.__name\n",
    "\n",
    "    @get_name.setter\n",
    "    def set_name(self, value):\n",
    "        print(\"setting new name....\")\n",
    "        self.__name = value\n",
    "        "
   ]
  },
  {
   "cell_type": "code",
   "execution_count": 27,
   "id": "fa960f40-bc95-48e1-a1a9-2d054bafb536",
   "metadata": {},
   "outputs": [
    {
     "name": "stdout",
     "output_type": "stream",
     "text": [
      "getting name...\n"
     ]
    },
    {
     "data": {
      "text/plain": [
       "'Baroon'"
      ]
     },
     "execution_count": 27,
     "metadata": {},
     "output_type": "execute_result"
    }
   ],
   "source": [
    "name = Intro(\"Baroon\")\n",
    "name.get_name"
   ]
  },
  {
   "cell_type": "code",
   "execution_count": 28,
   "id": "b8987e11-5a84-41f1-9d09-ea0325b5c613",
   "metadata": {},
   "outputs": [
    {
     "name": "stdout",
     "output_type": "stream",
     "text": [
      "setting new name....\n"
     ]
    }
   ],
   "source": [
    "name.set_name = 'barun'"
   ]
  },
  {
   "cell_type": "code",
   "execution_count": 29,
   "id": "ddc4c479-8be5-4309-9730-cd765dc72b6c",
   "metadata": {},
   "outputs": [
    {
     "name": "stdout",
     "output_type": "stream",
     "text": [
      "getting name...\n"
     ]
    },
    {
     "data": {
      "text/plain": [
       "'barun'"
      ]
     },
     "execution_count": 29,
     "metadata": {},
     "output_type": "execute_result"
    }
   ],
   "source": [
    "name.get_name"
   ]
  },
  {
   "cell_type": "code",
   "execution_count": 30,
   "id": "e3334f6d-baf6-4f35-b1e3-fbaedac03d0e",
   "metadata": {},
   "outputs": [
    {
     "data": {
      "text/plain": [
       "1.4142135623730951"
      ]
     },
     "execution_count": 30,
     "metadata": {},
     "output_type": "execute_result"
    }
   ],
   "source": [
    "2 ** 0.5"
   ]
  },
  {
   "cell_type": "code",
   "execution_count": 32,
   "id": "695fadb3-e5b4-4c80-b066-cbfcbc3216d3",
   "metadata": {},
   "outputs": [
    {
     "data": {
      "text/plain": [
       "1.4142135623730951"
      ]
     },
     "execution_count": 32,
     "metadata": {},
     "output_type": "execute_result"
    }
   ],
   "source": [
    "import math\n",
    "\n",
    "math.sqrt(2)"
   ]
  },
  {
   "cell_type": "code",
   "execution_count": null,
   "id": "8a616df9-99c3-4894-9cb3-b9a690135cbd",
   "metadata": {},
   "outputs": [],
   "source": []
  }
 ],
 "metadata": {
  "kernelspec": {
   "display_name": "Python 3 (ipykernel)",
   "language": "python",
   "name": "python3"
  },
  "language_info": {
   "codemirror_mode": {
    "name": "ipython",
    "version": 3
   },
   "file_extension": ".py",
   "mimetype": "text/x-python",
   "name": "python",
   "nbconvert_exporter": "python",
   "pygments_lexer": "ipython3",
   "version": "3.12.5"
  }
 },
 "nbformat": 4,
 "nbformat_minor": 5
}
