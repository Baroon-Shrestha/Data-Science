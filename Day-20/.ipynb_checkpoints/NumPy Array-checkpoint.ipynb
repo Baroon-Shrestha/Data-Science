{
 "cells": [
  {
   "cell_type": "code",
   "execution_count": 1,
   "id": "233d1c96-617e-416e-a4a9-f29570194233",
   "metadata": {},
   "outputs": [
    {
     "name": "stdout",
     "output_type": "stream",
     "text": [
      "Collecting numpy\n",
      "  Downloading numpy-2.1.1-cp312-cp312-macosx_14_0_arm64.whl.metadata (60 kB)\n",
      "Downloading numpy-2.1.1-cp312-cp312-macosx_14_0_arm64.whl (5.1 MB)\n",
      "\u001b[2K   \u001b[38;2;114;156;31m━━━━━━━━━━━━━━━━━━━━━━━━━━━━━━━━━━━━━━━━\u001b[0m \u001b[32m5.1/5.1 MB\u001b[0m \u001b[31m8.4 MB/s\u001b[0m eta \u001b[36m0:00:00\u001b[0m[31m6.4 MB/s\u001b[0m eta \u001b[36m0:00:01\u001b[0m\n",
      "\u001b[?25hInstalling collected packages: numpy\n",
      "Successfully installed numpy-2.1.1\n"
     ]
    }
   ],
   "source": [
    "!pip install numpy"
   ]
  },
  {
   "cell_type": "code",
   "execution_count": 5,
   "id": "992c0f98-0633-4b2f-ba58-0ac096bacaa1",
   "metadata": {},
   "outputs": [],
   "source": [
    "import numpy as np"
   ]
  },
  {
   "cell_type": "code",
   "execution_count": 74,
   "id": "5e412c38-c05a-437f-8930-ea4e6136754b",
   "metadata": {},
   "outputs": [
    {
     "name": "stdout",
     "output_type": "stream",
     "text": [
      "[1, 2, 3, 4]\n",
      "[1 2 3 4]\n",
      "[5 6 7 8]\n",
      "<class 'numpy.ndarray'>\n",
      "1\n",
      "(4,)\n"
     ]
    }
   ],
   "source": [
    "list = [1,2,3,4]\n",
    "print(list)\n",
    "\n",
    "arr = np.array([5,6,7,8])\n",
    "arr2 = np.array(list)\n",
    "\n",
    "print(arr2)\n",
    "print(arr)\n",
    "\n",
    "print(type(arr))\n",
    "\n",
    "print(arr.ndim)\n",
    "print(arr.shape)\n"
   ]
  },
  {
   "cell_type": "code",
   "execution_count": 27,
   "id": "5f2ff63f-4287-405d-9262-64e3241a385f",
   "metadata": {},
   "outputs": [
    {
     "name": "stdout",
     "output_type": "stream",
     "text": [
      "[[1 2 3 4]\n",
      " [6 7 8 9]]\n",
      "(2, 4)\n",
      "2\n"
     ]
    }
   ],
   "source": [
    "list2 = [6,7,8,9]\n",
    "d_arr = np.array([list,list2])\n",
    "print(d_arr)\n",
    "print(d_arr.shape)\n",
    "print(d_arr.ndim)"
   ]
  },
  {
   "cell_type": "code",
   "execution_count": 32,
   "id": "79fcce7f-74f1-48d9-b38b-f5e71e06ab64",
   "metadata": {},
   "outputs": [
    {
     "name": "stdout",
     "output_type": "stream",
     "text": [
      "[0. 0. 0.]\n"
     ]
    }
   ],
   "source": [
    "print(np.zeros(3))"
   ]
  },
  {
   "cell_type": "code",
   "execution_count": 60,
   "id": "f39b2960-d6a0-4732-8296-de78a2eb4b6d",
   "metadata": {},
   "outputs": [
    {
     "name": "stdout",
     "output_type": "stream",
     "text": [
      "[[0. 0. 0. 0.]\n",
      " [0. 0. 0. 0.]\n",
      " [0. 0. 0. 0.]\n",
      " [0. 0. 0. 0.]\n",
      " [0. 0. 0. 0.]]\n"
     ]
    },
    {
     "data": {
      "text/plain": [
       "dtype('float64')"
      ]
     },
     "execution_count": 60,
     "metadata": {},
     "output_type": "execute_result"
    }
   ],
   "source": [
    "z_arr = np.zeros((5,4))\n",
    "print(z_arr)\n",
    "z_arr.dtype"
   ]
  },
  {
   "cell_type": "code",
   "execution_count": 40,
   "id": "c5969fae-3c87-45a6-8bc3-0bceb1e2959e",
   "metadata": {},
   "outputs": [
    {
     "name": "stdout",
     "output_type": "stream",
     "text": [
      "[1.]\n"
     ]
    }
   ],
   "source": [
    "print(np.ones(1))"
   ]
  },
  {
   "cell_type": "code",
   "execution_count": 42,
   "id": "e97776df-6de4-4606-be7f-c7653ac7c760",
   "metadata": {},
   "outputs": [
    {
     "name": "stdout",
     "output_type": "stream",
     "text": [
      "[[1. 1. 1. 1. 1.]\n",
      " [1. 1. 1. 1. 1.]\n",
      " [1. 1. 1. 1. 1.]]\n"
     ]
    }
   ],
   "source": [
    "print(np.ones((3,5)))"
   ]
  },
  {
   "cell_type": "code",
   "execution_count": 47,
   "id": "24618ab4-de5f-4311-b184-67271b1a6644",
   "metadata": {},
   "outputs": [
    {
     "name": "stdout",
     "output_type": "stream",
     "text": [
      "[[1. 0. 0.]\n",
      " [0. 1. 0.]\n",
      " [0. 0. 1.]]\n"
     ]
    }
   ],
   "source": [
    "print(np.identity(3))"
   ]
  },
  {
   "cell_type": "code",
   "execution_count": 55,
   "id": "5bdbf790-2273-44bc-a66c-8cf308676cd6",
   "metadata": {},
   "outputs": [
    {
     "name": "stdout",
     "output_type": "stream",
     "text": [
      "[[0.57103445 0.18633544 0.73015055]\n",
      " [0.48811615 0.83963024 0.16047912]]\n"
     ]
    }
   ],
   "source": [
    "print(np.random.rand(2,3))"
   ]
  },
  {
   "cell_type": "code",
   "execution_count": 57,
   "id": "5c2c4cec-b25a-4274-8032-26aaa41db4b0",
   "metadata": {},
   "outputs": [
    {
     "name": "stdout",
     "output_type": "stream",
     "text": [
      "[1 3 5 7 9]\n"
     ]
    }
   ],
   "source": [
    "print(np.arange(1,10,2))"
   ]
  },
  {
   "cell_type": "code",
   "execution_count": 64,
   "id": "3d51c62d-85ce-40b0-b8d6-13a5f627ed5c",
   "metadata": {},
   "outputs": [
    {
     "data": {
      "text/plain": [
       "array([ 0.        ,  1.42857143,  2.85714286,  4.28571429,  5.71428571,\n",
       "        7.14285714,  8.57142857, 10.        ])"
      ]
     },
     "execution_count": 64,
     "metadata": {},
     "output_type": "execute_result"
    }
   ],
   "source": [
    "linsp_arr = np.linspace(start=0,stop=10,num=8)\n",
    "\n",
    "linsp_arr"
   ]
  },
  {
   "cell_type": "code",
   "execution_count": 69,
   "id": "c2c39f43-fd49-4da3-b1d6-c3a587652e74",
   "metadata": {},
   "outputs": [
    {
     "data": {
      "text/plain": [
       "array([[ 0.  ,  2.5 ,  5.  ,  7.5 , 10.  ],\n",
       "       [ 1.  ,  5.75, 10.5 , 15.25, 20.  ],\n",
       "       [ 2.  ,  9.  , 16.  , 23.  , 30.  ]])"
      ]
     },
     "execution_count": 69,
     "metadata": {},
     "output_type": "execute_result"
    }
   ],
   "source": [
    "linsp_arr2 = np.linspace(start = (0,1,2),stop=(10,20,30), num= 5, axis=1)\n",
    "\n",
    "linsp_arr2"
   ]
  },
  {
   "cell_type": "code",
   "execution_count": 71,
   "id": "0db6dcde-71c3-490d-8ae5-2b7a160a21d8",
   "metadata": {},
   "outputs": [
    {
     "name": "stdout",
     "output_type": "stream",
     "text": [
      "[[1 0 0 0]\n",
      " [0 2 0 0]\n",
      " [0 0 3 0]\n",
      " [0 0 0 4]]\n"
     ]
    }
   ],
   "source": [
    "dig_arr = np.diag([1,2,3,4])\n",
    "print(dig_arr)"
   ]
  },
  {
   "cell_type": "code",
   "execution_count": 72,
   "id": "7b26f47e-5861-49f5-8027-5017b6b3ba13",
   "metadata": {},
   "outputs": [
    {
     "data": {
      "text/plain": [
       "array([[1., 0., 0., 0.],\n",
       "       [0., 1., 0., 0.],\n",
       "       [0., 0., 1., 0.]])"
      ]
     },
     "execution_count": 72,
     "metadata": {},
     "output_type": "execute_result"
    }
   ],
   "source": [
    "np.eye(3,4)"
   ]
  },
  {
   "cell_type": "code",
   "execution_count": 83,
   "id": "c5cff724-2005-4dd5-a4a5-13726826591e",
   "metadata": {},
   "outputs": [
    {
     "data": {
      "text/plain": [
       "array([[[14,  9,  7,  6],\n",
       "        [14,  6, 12, 13],\n",
       "        [14,  9, 14,  6]],\n",
       "\n",
       "       [[ 6,  9, 11,  9],\n",
       "        [ 6, 13, 11, 12],\n",
       "        [ 8,  8, 10, 11]]])"
      ]
     },
     "execution_count": 83,
     "metadata": {},
     "output_type": "execute_result"
    }
   ],
   "source": [
    "random_arr = np.random.randint(low=6,high=15, size=(2,3,4))\n",
    "random_arr"
   ]
  },
  {
   "cell_type": "code",
   "execution_count": null,
   "id": "b0ca950f-ba2f-424b-a6e4-378cf1f4b7ed",
   "metadata": {},
   "outputs": [],
   "source": []
  }
 ],
 "metadata": {
  "kernelspec": {
   "display_name": "Python 3 (ipykernel)",
   "language": "python",
   "name": "python3"
  },
  "language_info": {
   "codemirror_mode": {
    "name": "ipython",
    "version": 3
   },
   "file_extension": ".py",
   "mimetype": "text/x-python",
   "name": "python",
   "nbconvert_exporter": "python",
   "pygments_lexer": "ipython3",
   "version": "3.12.5"
  }
 },
 "nbformat": 4,
 "nbformat_minor": 5
}
