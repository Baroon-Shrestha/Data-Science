{
 "cells": [
  {
   "cell_type": "markdown",
   "id": "83010bf4-93ed-428b-9ea5-699d2eadb49a",
   "metadata": {},
   "source": [
    "## rounding operations"
   ]
  },
  {
   "cell_type": "code",
   "execution_count": 17,
   "id": "4647be0d-843e-402f-b871-e420412e48c7",
   "metadata": {},
   "outputs": [
    {
     "data": {
      "text/plain": [
       "array([[2.23606798, 2.23606798, 2.23606798],\n",
       "       [2.23606798, 2.64575131, 2.64575131],\n",
       "       [2.44948974, 3.        , 2.44948974]])"
      ]
     },
     "execution_count": 17,
     "metadata": {},
     "output_type": "execute_result"
    }
   ],
   "source": [
    "np.sqrt(arr2)"
   ]
  },
  {
   "cell_type": "code",
   "execution_count": 23,
   "id": "75df9dcf-5225-43ff-8375-ce533272f522",
   "metadata": {},
   "outputs": [
    {
     "data": {
      "text/plain": [
       "array([[ 1.3264319 ,  1.04148193, -1.52988566],\n",
       "       [-2.40299796,  1.3264319 , -2.40299796],\n",
       "       [-2.40299796,  1.04148193, -1.01010867]])"
      ]
     },
     "execution_count": 23,
     "metadata": {},
     "output_type": "execute_result"
    }
   ],
   "source": [
    "arg = 1 / np.cos(arr1)\n",
    "arg"
   ]
  },
  {
   "cell_type": "code",
   "execution_count": 24,
   "id": "0aac89ab-eb43-4095-a9e7-b29b2a88b3ee",
   "metadata": {},
   "outputs": [
    {
     "data": {
      "text/plain": [
       "array([[ 1.,  1., -2.],\n",
       "       [-2.,  1., -2.],\n",
       "       [-2.,  1., -1.]])"
      ]
     },
     "execution_count": 24,
     "metadata": {},
     "output_type": "execute_result"
    }
   ],
   "source": [
    "np.round(arg)"
   ]
  },
  {
   "cell_type": "code",
   "execution_count": 25,
   "id": "a7e5a7ae-c065-4e42-b2a4-5430434ca79e",
   "metadata": {},
   "outputs": [
    {
     "data": {
      "text/plain": [
       "array([[ 1.326,  1.041, -1.53 ],\n",
       "       [-2.403,  1.326, -2.403],\n",
       "       [-2.403,  1.041, -1.01 ]])"
      ]
     },
     "execution_count": 25,
     "metadata": {},
     "output_type": "execute_result"
    }
   ],
   "source": [
    "np.around(arg, 3)"
   ]
  },
  {
   "cell_type": "code",
   "execution_count": 26,
   "id": "ca82e712-dadc-4af8-a992-f65283d0fec0",
   "metadata": {},
   "outputs": [
    {
     "data": {
      "text/plain": [
       "array([[ 1.,  1., -1.],\n",
       "       [-2.,  1., -2.],\n",
       "       [-2.,  1., -1.]])"
      ]
     },
     "execution_count": 26,
     "metadata": {},
     "output_type": "execute_result"
    }
   ],
   "source": [
    "np.fix(arg)"
   ]
  },
  {
   "cell_type": "markdown",
   "id": "b6452125-79b9-4b89-b01c-37b14243122f",
   "metadata": {},
   "source": [
    "## arthemetic "
   ]
  },
  {
   "cell_type": "code",
   "execution_count": 3,
   "id": "f2ca4895-19f9-4879-ad1d-11ca1043ef14",
   "metadata": {},
   "outputs": [],
   "source": [
    "import numpy as np\n",
    "\n",
    "arr1 = np.random.randint(low=2,high=8,size=(3,3))\n",
    "arr2 = np.random.randint(low=4,high=10,size=(3,3))"
   ]
  },
  {
   "cell_type": "code",
   "execution_count": 4,
   "id": "d9676c22-44a4-408c-b797-8d71743cfec5",
   "metadata": {},
   "outputs": [
    {
     "data": {
      "text/plain": [
       "array([[7, 6, 4],\n",
       "       [2, 7, 2],\n",
       "       [2, 6, 3]])"
      ]
     },
     "execution_count": 4,
     "metadata": {},
     "output_type": "execute_result"
    }
   ],
   "source": [
    "arr1 "
   ]
  },
  {
   "cell_type": "code",
   "execution_count": 5,
   "id": "fdbf448a-1f60-4e3a-9921-cf49b0385361",
   "metadata": {},
   "outputs": [
    {
     "data": {
      "text/plain": [
       "array([[5, 5, 5],\n",
       "       [5, 7, 7],\n",
       "       [6, 9, 6]])"
      ]
     },
     "execution_count": 5,
     "metadata": {},
     "output_type": "execute_result"
    }
   ],
   "source": [
    "arr2"
   ]
  },
  {
   "cell_type": "code",
   "execution_count": 6,
   "id": "53770016-6160-4ebd-a2b5-bda5e707b7c1",
   "metadata": {},
   "outputs": [
    {
     "data": {
      "text/plain": [
       "array([[12, 11,  9],\n",
       "       [ 7, 14,  9],\n",
       "       [ 8, 15,  9]])"
      ]
     },
     "execution_count": 6,
     "metadata": {},
     "output_type": "execute_result"
    }
   ],
   "source": [
    "arr1 + arr2"
   ]
  },
  {
   "cell_type": "code",
   "execution_count": 7,
   "id": "d695e266-4357-48f1-ba2c-433288277e80",
   "metadata": {},
   "outputs": [
    {
     "data": {
      "text/plain": [
       "array([[ 2,  1, -1],\n",
       "       [-3,  0, -5],\n",
       "       [-4, -3, -3]])"
      ]
     },
     "execution_count": 7,
     "metadata": {},
     "output_type": "execute_result"
    }
   ],
   "source": [
    "arr1 - arr2"
   ]
  },
  {
   "cell_type": "code",
   "execution_count": 8,
   "id": "ee17a261-1455-4e71-80fb-641a996458bb",
   "metadata": {},
   "outputs": [
    {
     "data": {
      "text/plain": [
       "array([[12, 11,  9],\n",
       "       [ 7, 14,  9],\n",
       "       [ 8, 15,  9]])"
      ]
     },
     "execution_count": 8,
     "metadata": {},
     "output_type": "execute_result"
    }
   ],
   "source": [
    "np.add(arr1,arr2)"
   ]
  },
  {
   "cell_type": "code",
   "execution_count": 16,
   "id": "c2ef6c76-4cd5-4813-add5-1abcace9ef93",
   "metadata": {},
   "outputs": [
    {
     "name": "stdout",
     "output_type": "stream",
     "text": [
      "[[5 5 5]\n",
      " [5 7 7]\n",
      " [6 9 6]]\n",
      "[[1 1 1]\n",
      " [1 3 3]\n",
      " [2 1 2]]\n"
     ]
    }
   ],
   "source": [
    "print(arr2)\n",
    "print(arr2 % 4)"
   ]
  },
  {
   "cell_type": "markdown",
   "id": "48e25865-9adb-42cf-b9b6-6bab83f1323e",
   "metadata": {},
   "source": [
    "## martix operations"
   ]
  },
  {
   "cell_type": "code",
   "execution_count": 43,
   "id": "d7eb1fc9-1723-4ccd-84a1-4d93750bd53d",
   "metadata": {},
   "outputs": [],
   "source": [
    "arr1 = np.array([[1,2],[3,4]])\n",
    "arr2 = np.array([[5,6],[7,8]])"
   ]
  },
  {
   "cell_type": "code",
   "execution_count": 44,
   "id": "8fee9f60-f7b5-4419-8ead-db56f6492fad",
   "metadata": {},
   "outputs": [
    {
     "data": {
      "text/plain": [
       "array([[1, 2],\n",
       "       [3, 4]])"
      ]
     },
     "execution_count": 44,
     "metadata": {},
     "output_type": "execute_result"
    }
   ],
   "source": [
    "arr1"
   ]
  },
  {
   "cell_type": "code",
   "execution_count": 45,
   "id": "11e2e35e-b7f0-4a32-afb4-d230ad1bf0e2",
   "metadata": {},
   "outputs": [
    {
     "data": {
      "text/plain": [
       "array([[5, 6],\n",
       "       [7, 8]])"
      ]
     },
     "execution_count": 45,
     "metadata": {},
     "output_type": "execute_result"
    }
   ],
   "source": [
    "arr2"
   ]
  },
  {
   "cell_type": "code",
   "execution_count": 46,
   "id": "cc715bab-f123-4732-acdf-5dd6f2f082c2",
   "metadata": {},
   "outputs": [
    {
     "data": {
      "text/plain": [
       "array([[19, 22],\n",
       "       [43, 50]])"
      ]
     },
     "execution_count": 46,
     "metadata": {},
     "output_type": "execute_result"
    }
   ],
   "source": [
    "np.dot(arr1,arr2)"
   ]
  },
  {
   "cell_type": "code",
   "execution_count": 42,
   "id": "f1918adb-7ced-4a2d-a0f8-97c0f875754e",
   "metadata": {},
   "outputs": [
    {
     "data": {
      "text/plain": [
       "array([[1, 4],\n",
       "       [2, 5]])"
      ]
     },
     "execution_count": 42,
     "metadata": {},
     "output_type": "execute_result"
    }
   ],
   "source": [
    "np.transpose(arr1)"
   ]
  },
  {
   "cell_type": "code",
   "execution_count": 48,
   "id": "bc8c8c25-f4a9-41f5-9805-5c7471d86195",
   "metadata": {},
   "outputs": [
    {
     "data": {
      "text/plain": [
       "np.float64(-2.0000000000000004)"
      ]
     },
     "execution_count": 48,
     "metadata": {},
     "output_type": "execute_result"
    }
   ],
   "source": [
    "np.linalg.det(arr1)"
   ]
  },
  {
   "cell_type": "code",
   "execution_count": 50,
   "id": "51df2f6a-01e0-47f0-bfde-a09e03fa68e8",
   "metadata": {},
   "outputs": [
    {
     "data": {
      "text/plain": [
       "array([[1., 0.],\n",
       "       [0., 1.]])"
      ]
     },
     "execution_count": 50,
     "metadata": {},
     "output_type": "execute_result"
    }
   ],
   "source": [
    "np.dot(arr1, np.linalg.inv(arr1)).round()"
   ]
  },
  {
   "cell_type": "code",
   "execution_count": null,
   "id": "f7380a6f-6554-4ecc-bc4e-6151f78a5053",
   "metadata": {},
   "outputs": [],
   "source": []
  }
 ],
 "metadata": {
  "kernelspec": {
   "display_name": "Python 3 (ipykernel)",
   "language": "python",
   "name": "python3"
  },
  "language_info": {
   "codemirror_mode": {
    "name": "ipython",
    "version": 3
   },
   "file_extension": ".py",
   "mimetype": "text/x-python",
   "name": "python",
   "nbconvert_exporter": "python",
   "pygments_lexer": "ipython3",
   "version": "3.12.5"
  }
 },
 "nbformat": 4,
 "nbformat_minor": 5
}
