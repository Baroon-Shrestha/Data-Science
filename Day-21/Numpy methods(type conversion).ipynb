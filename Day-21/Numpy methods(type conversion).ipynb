{
 "cells": [
  {
   "cell_type": "code",
   "execution_count": 12,
   "id": "7b91ab59-6b42-4cf7-a347-4f8c99457b46",
   "metadata": {},
   "outputs": [],
   "source": [
    "import numpy as np\n",
    "arr1 = ([1,2,3],[4,0,1],[10,11,0])"
   ]
  },
  {
   "cell_type": "code",
   "execution_count": 13,
   "id": "5f2461b9-0ffc-4b12-9a74-9306cd4ae76f",
   "metadata": {},
   "outputs": [
    {
     "data": {
      "text/plain": [
       "array([[ 1,  2,  3],\n",
       "       [ 4,  0,  1],\n",
       "       [10, 11,  0]])"
      ]
     },
     "execution_count": 13,
     "metadata": {},
     "output_type": "execute_result"
    }
   ],
   "source": [
    "arr = np.array(arr1)\n",
    "arr"
   ]
  },
  {
   "cell_type": "code",
   "execution_count": 14,
   "id": "1cc71668-46a0-4bef-bac3-38712421f6bf",
   "metadata": {},
   "outputs": [
    {
     "data": {
      "text/plain": [
       "array([2, 0, 1])"
      ]
     },
     "execution_count": 14,
     "metadata": {},
     "output_type": "execute_result"
    }
   ],
   "source": [
    "arr.argmax(axis = 1)"
   ]
  },
  {
   "cell_type": "code",
   "execution_count": 15,
   "id": "7c4767d3-d15e-49be-8784-c12b45d781ce",
   "metadata": {},
   "outputs": [
    {
     "data": {
      "text/plain": [
       "array([ 1,  3,  6, 10, 10, 11, 21, 32, 32])"
      ]
     },
     "execution_count": 15,
     "metadata": {},
     "output_type": "execute_result"
    }
   ],
   "source": [
    "arr.cumsum()"
   ]
  },
  {
   "cell_type": "code",
   "execution_count": 47,
   "id": "3005255d-97f1-41f4-9df3-6416f74ca5df",
   "metadata": {},
   "outputs": [],
   "source": [
    "arr2 = np.random.randint(low=2,high=10,size=(3,3))\n",
    "arr3 = np.random.randint(low=5,high=8,size=(3,3),dtype = np.int32)"
   ]
  },
  {
   "cell_type": "code",
   "execution_count": 62,
   "id": "0fe712ea-8037-4bab-95bf-a03306bfc65a",
   "metadata": {},
   "outputs": [
    {
     "name": "stdout",
     "output_type": "stream",
     "text": [
      "[[8 7 9]\n",
      " [6 5 3]\n",
      " [9 6 8]]\n"
     ]
    },
    {
     "data": {
      "text/plain": [
       "array([[8., 7., 9.],\n",
       "       [6., 5., 3.],\n",
       "       [9., 6., 8.]])"
      ]
     },
     "execution_count": 62,
     "metadata": {},
     "output_type": "execute_result"
    }
   ],
   "source": [
    "print(arr2)\n",
    "arr4 = arr2.astype(np.float64)\n",
    "arr4"
   ]
  },
  {
   "cell_type": "code",
   "execution_count": 50,
   "id": "80a88ff6-c89e-43af-b76e-17e966f8c7b4",
   "metadata": {},
   "outputs": [
    {
     "name": "stdout",
     "output_type": "stream",
     "text": [
      "int32\n",
      "[[6 7 5]\n",
      " [6 6 6]\n",
      " [7 6 7]]\n",
      "6\n"
     ]
    }
   ],
   "source": [
    "print(arr3.dtype)\n",
    "print(arr3)\n",
    "print(arr3[1,1])"
   ]
  },
  {
   "cell_type": "code",
   "execution_count": 60,
   "id": "4eb6b977-3970-4df8-abe8-faa8805a47fa",
   "metadata": {},
   "outputs": [
    {
     "data": {
      "text/plain": [
       "array([[8, 7, 9],\n",
       "       [6, 5, 3],\n",
       "       [9, 6, 8],\n",
       "       [6, 7, 5],\n",
       "       [6, 6, 6],\n",
       "       [7, 6, 7]])"
      ]
     },
     "execution_count": 60,
     "metadata": {},
     "output_type": "execute_result"
    }
   ],
   "source": [
    "np.vstack((arr2,arr3))"
   ]
  },
  {
   "cell_type": "code",
   "execution_count": 44,
   "id": "a7b5abe6-2df9-4b9c-bb6e-41cd23456e47",
   "metadata": {},
   "outputs": [
    {
     "data": {
      "text/plain": [
       "array([[2, 2, 8, 6, 6, 5],\n",
       "       [2, 7, 9, 6, 7, 6],\n",
       "       [9, 3, 5, 6, 6, 5]])"
      ]
     },
     "execution_count": 44,
     "metadata": {},
     "output_type": "execute_result"
    }
   ],
   "source": [
    "np.hstack((arr2,arr3))"
   ]
  },
  {
   "cell_type": "code",
   "execution_count": 65,
   "id": "9a56412e-1076-484e-a8ce-884c70d0dd49",
   "metadata": {},
   "outputs": [
    {
     "data": {
      "text/plain": [
       "array([[8., 7., 9.],\n",
       "       [6., 5., 3.],\n",
       "       [9., 6., 8.]])"
      ]
     },
     "execution_count": 65,
     "metadata": {},
     "output_type": "execute_result"
    }
   ],
   "source": [
    "arr4"
   ]
  },
  {
   "cell_type": "code",
   "execution_count": null,
   "id": "ef87daee-4d74-48e1-95fb-470d52869532",
   "metadata": {},
   "outputs": [],
   "source": []
  }
 ],
 "metadata": {
  "kernelspec": {
   "display_name": "Python 3 (ipykernel)",
   "language": "python",
   "name": "python3"
  },
  "language_info": {
   "codemirror_mode": {
    "name": "ipython",
    "version": 3
   },
   "file_extension": ".py",
   "mimetype": "text/x-python",
   "name": "python",
   "nbconvert_exporter": "python",
   "pygments_lexer": "ipython3",
   "version": "3.12.5"
  }
 },
 "nbformat": 4,
 "nbformat_minor": 5
}
