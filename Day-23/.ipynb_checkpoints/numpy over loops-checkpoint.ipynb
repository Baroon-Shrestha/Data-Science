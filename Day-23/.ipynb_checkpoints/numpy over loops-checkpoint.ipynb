{
 "cells": [
  {
   "cell_type": "code",
   "execution_count": 8,
   "id": "5aca02ba-c4a9-4965-b736-d8819b920917",
   "metadata": {},
   "outputs": [],
   "source": []
  },
  {
   "cell_type": "code",
   "execution_count": 18,
   "id": "8c1c141c-4777-4ba1-8946-40f9fa7a2c9a",
   "metadata": {},
   "outputs": [
    {
     "ename": "TypeError",
     "evalue": "list[28456] is not a generic class",
     "output_type": "error",
     "traceback": [
      "\u001b[0;31m---------------------------------------------------------------------------\u001b[0m",
      "\u001b[0;31mTypeError\u001b[0m                                 Traceback (most recent call last)",
      "Cell \u001b[0;32mIn[18], line 13\u001b[0m\n\u001b[1;32m     11\u001b[0m start_time \u001b[38;5;241m=\u001b[39m time\u001b[38;5;241m.\u001b[39mtime()\n\u001b[1;32m     12\u001b[0m \u001b[38;5;28;01mfor\u001b[39;00m i \u001b[38;5;129;01min\u001b[39;00m lsa:\n\u001b[0;32m---> 13\u001b[0m     res\u001b[38;5;241m.\u001b[39mappend(\u001b[43mlsa\u001b[49m\u001b[43m[\u001b[49m\u001b[43mi\u001b[49m\u001b[43m]\u001b[49m \u001b[38;5;241m*\u001b[39m lsb[i])\n\u001b[1;32m     14\u001b[0m end_time \u001b[38;5;241m=\u001b[39m time\u001b[38;5;241m.\u001b[39mtime()\n\u001b[1;32m     16\u001b[0m \u001b[38;5;28mprint\u001b[39m(end_time \u001b[38;5;241m-\u001b[39m start_time)\n",
      "\u001b[0;31mTypeError\u001b[0m: list[28456] is not a generic class"
     ]
    }
   ],
   "source": [
    "import numpy as np\n",
    "import time\n",
    "\n",
    "a = np.random.randint(100000)\n",
    "b = np.random.randint(100000)\n",
    "\n",
    "lsa = list[a]\n",
    "lsb = list[b]\n",
    "res = []\n",
    "\n",
    "start_time = time.time()\n",
    "for i in range(length):\n",
    "    res.append(lsa[i] * lsb[i])\n",
    "end_time = time.time()\n",
    "\n",
    "print(end_time - start_time)"
   ]
  },
  {
   "cell_type": "code",
   "execution_count": null,
   "id": "f1106f75-6940-47d6-a799-eb074d8d6f25",
   "metadata": {},
   "outputs": [],
   "source": []
  }
 ],
 "metadata": {
  "kernelspec": {
   "display_name": "Python 3 (ipykernel)",
   "language": "python",
   "name": "python3"
  },
  "language_info": {
   "codemirror_mode": {
    "name": "ipython",
    "version": 3
   },
   "file_extension": ".py",
   "mimetype": "text/x-python",
   "name": "python",
   "nbconvert_exporter": "python",
   "pygments_lexer": "ipython3",
   "version": "3.12.5"
  }
 },
 "nbformat": 4,
 "nbformat_minor": 5
}
