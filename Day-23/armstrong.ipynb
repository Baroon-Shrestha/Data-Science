{
 "cells": [
  {
   "cell_type": "code",
   "execution_count": 22,
   "id": "645aab3c-1207-424c-9b73-8d980141350f",
   "metadata": {},
   "outputs": [
    {
     "name": "stdin",
     "output_type": "stream",
     "text": [
      "enter a number :  1634\n"
     ]
    },
    {
     "name": "stdout",
     "output_type": "stream",
     "text": [
      "1634\n",
      "the number is armstrong\n"
     ]
    }
   ],
   "source": [
    "num = input(\"enter a number : \")\n",
    "length = len(num)\n",
    "\n",
    "arm = sum(int(i) ** length for i in num)\n",
    "print(arm)\n",
    "\n",
    "\n",
    "if (int(num) == arm) :\n",
    "    print(\"the number is armstrong\")\n",
    "else:\n",
    "    print(\"the number is not armstrong\")\n"
   ]
  },
  {
   "cell_type": "code",
   "execution_count": null,
   "id": "240448af-b747-483a-9c60-247f91285f81",
   "metadata": {},
   "outputs": [],
   "source": [
    "num = 123\n",
    "cnt = 0\n",
    "\n",
    "while num != 0:\n",
    "    num = num // 10  # Use integer division to remove the last digit\n",
    "    cnt += 1         # Increment the count for each digit\n",
    "\n",
    "print(cnt)\n"
   ]
  }
 ],
 "metadata": {
  "kernelspec": {
   "display_name": "Python 3 (ipykernel)",
   "language": "python",
   "name": "python3"
  },
  "language_info": {
   "codemirror_mode": {
    "name": "ipython",
    "version": 3
   },
   "file_extension": ".py",
   "mimetype": "text/x-python",
   "name": "python",
   "nbconvert_exporter": "python",
   "pygments_lexer": "ipython3",
   "version": "3.12.5"
  }
 },
 "nbformat": 4,
 "nbformat_minor": 5
}
