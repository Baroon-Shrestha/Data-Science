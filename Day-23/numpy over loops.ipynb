{
 "cells": [
  {
   "cell_type": "code",
   "execution_count": 2,
   "id": "5aca02ba-c4a9-4965-b736-d8819b920917",
   "metadata": {},
   "outputs": [],
   "source": [
    "import numpy as np\n",
    "import time\n",
    "\n",
    "a = np.random.rand(10000000)\n",
    "b = np.random.rand(10000000)\n"
   ]
  },
  {
   "cell_type": "code",
   "execution_count": 3,
   "id": "8c1c141c-4777-4ba1-8946-40f9fa7a2c9a",
   "metadata": {},
   "outputs": [
    {
     "name": "stdout",
     "output_type": "stream",
     "text": [
      "2.0244057178497314\n"
     ]
    }
   ],
   "source": [
    "lsa = list(a)\n",
    "lsb = list(b)\n",
    "c = []\n",
    "\n",
    "start = time.time()\n",
    "for i in range(len(lsa)):\n",
    "    c.append(lsa[i] * lsb[i])\n",
    "end = time.time()\n",
    "print(end - start)"
   ]
  },
  {
   "cell_type": "code",
   "execution_count": 4,
   "id": "f1106f75-6940-47d6-a799-eb074d8d6f25",
   "metadata": {},
   "outputs": [
    {
     "name": "stdout",
     "output_type": "stream",
     "text": [
      "2.0244057178497314\n"
     ]
    }
   ],
   "source": [
    "\n",
    "start2 = time.time()\n",
    "d = [lsa[i] * lsb[i] for i in range(len(lsa))]\n",
    "end2 = time.time()\n",
    "\n",
    "print(end - start)"
   ]
  },
  {
   "cell_type": "code",
   "execution_count": 5,
   "id": "b1351167-b0bb-4f9f-aafc-0271ae76defa",
   "metadata": {},
   "outputs": [
    {
     "name": "stdout",
     "output_type": "stream",
     "text": [
      "0\n"
     ]
    }
   ],
   "source": [
    "start3 = time.time()\n",
    "e = map(lambda x,y : x*y, lsa,lsb)\n",
    "end3 = time.time()\n",
    "\n",
    "print(f\"{round(end3 - start3)}\")"
   ]
  },
  {
   "cell_type": "code",
   "execution_count": 6,
   "id": "6d4c8bef-571f-494e-ba6c-e631d64941df",
   "metadata": {},
   "outputs": [
    {
     "name": "stdout",
     "output_type": "stream",
     "text": [
      "0.31415581703186035\n"
     ]
    }
   ],
   "source": [
    "start4 = time.time()\n",
    "c = a * b\n",
    "end4 = time.time()\n",
    "\n",
    "print(end4 - start4)"
   ]
  },
  {
   "cell_type": "code",
   "execution_count": null,
   "id": "3205523e-98aa-45f6-bba1-8d4090f0f0c8",
   "metadata": {},
   "outputs": [],
   "source": []
  }
 ],
 "metadata": {
  "kernelspec": {
   "display_name": "Python 3 (ipykernel)",
   "language": "python",
   "name": "python3"
  },
  "language_info": {
   "codemirror_mode": {
    "name": "ipython",
    "version": 3
   },
   "file_extension": ".py",
   "mimetype": "text/x-python",
   "name": "python",
   "nbconvert_exporter": "python",
   "pygments_lexer": "ipython3",
   "version": "3.12.5"
  }
 },
 "nbformat": 4,
 "nbformat_minor": 5
}
