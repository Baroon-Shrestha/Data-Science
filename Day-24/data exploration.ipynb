{
 "cells": [
  {
   "cell_type": "code",
   "execution_count": null,
   "id": "a57d8fcf-6dfd-486f-a202-9df1b512be61",
   "metadata": {},
   "outputs": [],
   "source": []
  }
 ],
 "metadata": {
  "kernelspec": {
   "display_name": "",
   "name": ""
  },
  "language_info": {
   "name": ""
  }
 },
 "nbformat": 4,
 "nbformat_minor": 5
}
