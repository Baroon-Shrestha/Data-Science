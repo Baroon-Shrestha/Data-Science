{
 "cells": [
  {
   "cell_type": "code",
   "execution_count": 4,
   "id": "ac6658f0-019e-419f-92fc-9eb980e4297d",
   "metadata": {},
   "outputs": [
    {
     "name": "stdout",
     "output_type": "stream",
     "text": [
      "{1: 1, 3: 9, 5: 25}\n"
     ]
    }
   ],
   "source": [
    "nums = [1,2,3,4,5]\n",
    "\n",
    "odd = {num :num ** 2 for num in nums if num %2 != 0}\n",
    "\n",
    "print(odd)"
   ]
  },
  {
   "cell_type": "code",
   "execution_count": 5,
   "id": "1a3bca0d-6a1e-4ae2-bc27-1eae624a2899",
   "metadata": {},
   "outputs": [
    {
     "data": {
      "text/plain": [
       "{'data': 4, 'sceince': 7, 'machine': 7, 'leanring': 8}"
      ]
     },
     "execution_count": 5,
     "metadata": {},
     "output_type": "execute_result"
    }
   ],
   "source": [
    "words = ['data','sceince','machine','leanring']\n",
    "\n",
    "letters = {name: len(name) for name in words}\n",
    "\n",
    "letters"
   ]
  },
  {
   "cell_type": "code",
   "execution_count": 8,
   "id": "183d0c2e-8354-42f2-b970-fc9147ba9cef",
   "metadata": {},
   "outputs": [
    {
     "data": {
      "text/plain": [
       "{'dictionaries.': 13,\n",
       " 'dictionary': 10,\n",
       " 'comprehensions': 14,\n",
       " 'complex': 7,\n",
       " 'example': 7,\n",
       " 'Dictionary': 10,\n",
       " 'create': 6,\n",
       " 'nested,': 7,\n",
       " 'creates': 7,\n",
       " 'allowing': 8,\n",
       " 'letter-counts': 13}"
      ]
     },
     "execution_count": 8,
     "metadata": {},
     "output_type": "execute_result"
    }
   ],
   "source": [
    "datas = {'Dictionary', 'comprehensions', 'can', 'also', 'be', 'nested,', 'allowing', 'you', 'to', 'create', 'more', 'complex', \n",
    "        'dictionaries.', 'Here', 'is', 'an', 'example', 'that', 'creates', 'a', 'dictionary', 'of', 'letter-counts'}\n",
    "\n",
    "data_count = {data : len(data) for data in datas if len(data) >= 5}\n",
    "\n",
    "data_count"
   ]
  },
  {
   "cell_type": "code",
   "execution_count": null,
   "id": "0398f8ae-7347-471d-9513-aa78116d5871",
   "metadata": {},
   "outputs": [],
   "source": []
  }
 ],
 "metadata": {
  "kernelspec": {
   "display_name": "Python 3 (ipykernel)",
   "language": "python",
   "name": "python3"
  },
  "language_info": {
   "codemirror_mode": {
    "name": "ipython",
    "version": 3
   },
   "file_extension": ".py",
   "mimetype": "text/x-python",
   "name": "python",
   "nbconvert_exporter": "python",
   "pygments_lexer": "ipython3",
   "version": "3.12.5"
  }
 },
 "nbformat": 4,
 "nbformat_minor": 5
}
