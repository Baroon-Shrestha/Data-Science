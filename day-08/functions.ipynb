{
 "cells": [
  {
   "cell_type": "code",
   "execution_count": 19,
   "id": "a21df1bd-aec4-4cb7-864b-46dd2b89b033",
   "metadata": {},
   "outputs": [],
   "source": [
    "\n",
    "def add(a,b):\n",
    "    \n",
    "    return a+b"
   ]
  },
  {
   "cell_type": "code",
   "execution_count": 20,
   "id": "95736827-aef8-4839-aecc-87a1bfa4b4b4",
   "metadata": {},
   "outputs": [
    {
     "data": {
      "text/plain": [
       "30"
      ]
     },
     "execution_count": 20,
     "metadata": {},
     "output_type": "execute_result"
    }
   ],
   "source": [
    "add(10,20)"
   ]
  },
  {
   "cell_type": "code",
   "execution_count": 23,
   "id": "0d98b35b-8bff-43a8-ab17-a861565f822c",
   "metadata": {},
   "outputs": [],
   "source": [
    "def greet(name,greeting):\n",
    "    return f\"{greeting},{name}\""
   ]
  },
  {
   "cell_type": "code",
   "execution_count": 24,
   "id": "4d6864ba-aa93-47d1-8257-101ce6556299",
   "metadata": {
    "jupyter": {
     "source_hidden": true
    }
   },
   "outputs": [
    {
     "data": {
      "text/plain": [
       "'hi,baroon'"
      ]
     },
     "execution_count": 24,
     "metadata": {},
     "output_type": "execute_result"
    }
   ],
   "source": [
    "greet(\"baroon\",\"hi\")"
   ]
  },
  {
   "cell_type": "code",
   "execution_count": 26,
   "id": "c2a2dd69-3b0f-4423-87bf-d5c8933abf47",
   "metadata": {},
   "outputs": [
    {
     "data": {
      "text/plain": [
       "'hello,barun'"
      ]
     },
     "execution_count": 26,
     "metadata": {},
     "output_type": "execute_result"
    }
   ],
   "source": [
    "greet(\"barun\",\"hello\")"
   ]
  },
  {
   "cell_type": "code",
   "execution_count": 43,
   "id": "284bbde5-85d0-4c98-9d19-542b577a98d6",
   "metadata": {},
   "outputs": [],
   "source": [
    "#arguments\n",
    "def printer(*args):\n",
    "    for arg in args:\n",
    "        # return arg\n",
    "        print(arg)"
   ]
  },
  {
   "cell_type": "code",
   "execution_count": 44,
   "id": "8cdd021c-6f58-4b7d-a926-f651f0547c1f",
   "metadata": {},
   "outputs": [
    {
     "name": "stdout",
     "output_type": "stream",
     "text": [
      "1\n",
      "hello\n",
      "hi\n"
     ]
    }
   ],
   "source": [
    "res = printer(1,\"hello\",\"hi\")\n",
    "res"
   ]
  },
  {
   "cell_type": "code",
   "execution_count": 60,
   "id": "77f1aa39-35a7-428c-a2bd-7f1199d1c4bc",
   "metadata": {},
   "outputs": [
    {
     "name": "stdout",
     "output_type": "stream",
     "text": [
      "{'name': 'baroon', 'age': 22}\n"
     ]
    }
   ],
   "source": [
    "#keyword argumetns\n",
    "def kw_printer(**kwargs):\n",
    "    print(kwargs)\n",
    "    \n",
    "kw_printer(name = \"baroon\", age = 22)"
   ]
  },
  {
   "cell_type": "code",
   "execution_count": 86,
   "id": "288a1fdb-6aa3-4ece-8908-580e7ef220d2",
   "metadata": {},
   "outputs": [],
   "source": [
    "def mse(*error):\n",
    "    total = sum(error)\n",
    "    mean  = total / len(error)\n",
    "    return mean\n",
    "\n",
    "# print(mse(*[1,2,3,4,5]))"
   ]
  },
  {
   "cell_type": "code",
   "execution_count": 87,
   "id": "d57b2767-8e57-40a7-9b02-48bf77b17c75",
   "metadata": {},
   "outputs": [],
   "source": [
    "def mean_error(*error):\n",
    "    total = sum(error)\n",
    "    mean = total / len(error)\n",
    "    return mean"
   ]
  },
  {
   "cell_type": "code",
   "execution_count": 96,
   "id": "11fffe8c-978e-4d10-ba01-cc9a876dec52",
   "metadata": {},
   "outputs": [
    {
     "data": {
      "text/plain": [
       "{'LR': 'linear, 1000, {1, 2, 3}'}"
      ]
     },
     "execution_count": 96,
     "metadata": {},
     "output_type": "execute_result"
    }
   ],
   "source": [
    "def kw_model(name,**kwargs):\n",
    "    model_name = name\n",
    "    model_size = kwargs['size']\n",
    "    model_shape = kwargs['shape']\n",
    "    model_type = kwargs.get('type','linear')\n",
    "    #defining default type in dictionary in type value is not found\n",
    "\n",
    "    return {model_name : f\"{model_type}, {model_size}, {model_shape}\" }\n",
    "    \n",
    "kw_model(\"LR\", size= 1000,shape={1,2,3})"
   ]
  },
  {
   "cell_type": "code",
   "execution_count": null,
   "id": "6fb4b871-36fa-4ece-8292-4e6391ececf3",
   "metadata": {},
   "outputs": [],
   "source": []
  }
 ],
 "metadata": {
  "kernelspec": {
   "display_name": "Python 3 (ipykernel)",
   "language": "python",
   "name": "python3"
  },
  "language_info": {
   "codemirror_mode": {
    "name": "ipython",
    "version": 3
   },
   "file_extension": ".py",
   "mimetype": "text/x-python",
   "name": "python",
   "nbconvert_exporter": "python",
   "pygments_lexer": "ipython3",
   "version": "3.12.5"
  }
 },
 "nbformat": 4,
 "nbformat_minor": 5
}
