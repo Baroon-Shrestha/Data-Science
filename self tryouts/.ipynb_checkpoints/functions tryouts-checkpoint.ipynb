{
 "cells": [
  {
   "cell_type": "code",
   "execution_count": 49,
   "id": "13265c74-67ab-4bf8-98fc-5e2e8f157e1d",
   "metadata": {},
   "outputs": [],
   "source": [
    "def addition(*args):\n",
    "    \"\"\"\n",
    "    takes any number of parameters as input\n",
    "\n",
    "    loops through the iterable data\n",
    "\n",
    "    args(type) : interalbe data\n",
    "\n",
    "    returns the sum of the data\n",
    "    \"\"\"\n",
    "    sum = 0\n",
    "    for arg in args:\n",
    "        sum += arg\n",
    "    return sum"
   ]
  },
  {
   "cell_type": "code",
   "execution_count": 50,
   "id": "2fb4a125-540f-4bc8-858c-2e5e3cb9eee7",
   "metadata": {},
   "outputs": [
    {
     "data": {
      "text/plain": [
       "15"
      ]
     },
     "execution_count": 50,
     "metadata": {},
     "output_type": "execute_result"
    }
   ],
   "source": [
    "addition(1,2,3,4,5)"
   ]
  },
  {
   "cell_type": "markdown",
   "id": "8d10bafe-9322-4df9-8210-87f424f019da",
   "metadata": {},
   "source": [
    "# Write a function to find the maximum of three numbers. Create a function max_of_three(a, b, c) that returns the largest of three numbers."
   ]
  },
  {
   "cell_type": "code",
   "execution_count": 56,
   "id": "413add88-f30c-4c15-8da9-3e6457561f36",
   "metadata": {},
   "outputs": [],
   "source": [
    "def max_of_three(a,b,c):\n",
    "    \"\"\"\n",
    "    gives the largest number among the given 3 numbers\n",
    "\n",
    "    parameters(a,b,c) int or float : user Input\n",
    "\n",
    "    check and returns the largest number among them\n",
    "    \"\"\"\n",
    "    if(a>b) and (a>c):\n",
    "        output = f\"a = {a} is the greatest\"\n",
    "        return output\n",
    "    elif (b>a) and (b>c):\n",
    "        output = f\"b = {b} is the greatest\"\n",
    "        return output\n",
    "    else:\n",
    "        output = f\"c = {c} is the greatest\"\n",
    "        return output"
   ]
  },
  {
   "cell_type": "code",
   "execution_count": 57,
   "id": "d3a7f84e-4ce7-4149-ae71-2415f184c40c",
   "metadata": {},
   "outputs": [
    {
     "name": "stdin",
     "output_type": "stream",
     "text": [
      "enter first number :  10\n",
      "enter second number :  100\n",
      "enter thrid number :  101\n"
     ]
    },
    {
     "data": {
      "text/plain": [
       "'c = 101 is the greatest'"
      ]
     },
     "execution_count": 57,
     "metadata": {},
     "output_type": "execute_result"
    }
   ],
   "source": [
    "a = int(input(\"enter first number : \"))\n",
    "b = int(input(\"enter second number : \"))\n",
    "c = int(input(\"enter thrid number : \"))\n",
    "\n",
    "max_of_three(a,b,c)"
   ]
  },
  {
   "cell_type": "markdown",
   "id": "d054ee21-74ff-4b40-85d2-35f617fdab28",
   "metadata": {},
   "source": [
    "# Write a function is_even(n) that returns True if n is even, and False if it is odd."
   ]
  },
  {
   "cell_type": "code",
   "execution_count": 59,
   "id": "08e0e2fb-bce5-43f7-aa89-45682cb44da8",
   "metadata": {},
   "outputs": [],
   "source": [
    "def is_even(n):\n",
    "    \"\"\"\n",
    "    checks the given number is odd or even\n",
    "\n",
    "    parameters(n) int : user Input\n",
    "\n",
    "    return True if even and False if odd\n",
    "    \"\"\"\n",
    "    if n % 2 == 0:\n",
    "        return True\n",
    "    else:\n",
    "        return False"
   ]
  },
  {
   "cell_type": "code",
   "execution_count": 61,
   "id": "dc349202-99fa-41e4-9ac0-1b666ec712b5",
   "metadata": {},
   "outputs": [
    {
     "name": "stdin",
     "output_type": "stream",
     "text": [
      "enter a number to check odd or even :  11\n"
     ]
    },
    {
     "data": {
      "text/plain": [
       "False"
      ]
     },
     "execution_count": 61,
     "metadata": {},
     "output_type": "execute_result"
    }
   ],
   "source": [
    "num = int(input(\"enter a number to check odd or even : \"))\n",
    "\n",
    "is_even(num)"
   ]
  },
  {
   "cell_type": "markdown",
   "id": "d12c0197-e015-4d67-9f79-dae10afa90af",
   "metadata": {},
   "source": [
    "# Define a function factorial(n) that takes a positive integer n and returns its factorial."
   ]
  },
  {
   "cell_type": "code",
   "execution_count": 91,
   "id": "fce9c922-fc7c-4fe5-b312-76a3994989ca",
   "metadata": {},
   "outputs": [],
   "source": [
    "def factorial(n):\n",
    "    \"\"\"\n",
    "    returns factorial of a given positive number\n",
    "\n",
    "    parameters(n) positive int: user input, fact : default 1\n",
    "\n",
    "    returns the factorial of a given positive number\n",
    "    \"\"\"\n",
    "    fact = 1\n",
    "    if n < 0:\n",
    "        return f\"the number must be a positive integer, {n}\"\n",
    "    for i in range(1,n+1):\n",
    "        fact = fact * i\n",
    "    return f\"the factorial of {n} is {fact}\""
   ]
  },
  {
   "cell_type": "code",
   "execution_count": 92,
   "id": "d99fedbe-1e13-4ab1-8f8a-a7b571582edd",
   "metadata": {},
   "outputs": [
    {
     "name": "stdin",
     "output_type": "stream",
     "text": [
      "enter a number :  12\n"
     ]
    },
    {
     "data": {
      "text/plain": [
       "'the factorial of 12 is 479001600'"
      ]
     },
     "execution_count": 92,
     "metadata": {},
     "output_type": "execute_result"
    }
   ],
   "source": [
    "num = int(input(\"enter a number : \"))\n",
    "factorial(num)"
   ]
  },
  {
   "cell_type": "markdown",
   "id": "3fd56328-75f1-4fc5-8654-c84be5fc17a5",
   "metadata": {},
   "source": [
    "# Create a function sum_of_list(lst) that takes a list of numbers lst and returns the sum of all its elements."
   ]
  },
  {
   "cell_type": "code",
   "execution_count": 105,
   "id": "f06fc412-13e4-4a3f-80d4-790815e36b99",
   "metadata": {},
   "outputs": [],
   "source": [
    "def sum_of_list(*nums):\n",
    "    sum = 0\n",
    "    for num in nums:\n",
    "        sum += num\n",
    "    return f\"sum of {nums} is {sum}\""
   ]
  },
  {
   "cell_type": "code",
   "execution_count": 108,
   "id": "86c92cf3-37f3-4ade-80fd-b0e81f1945e1",
   "metadata": {},
   "outputs": [
    {
     "data": {
      "text/plain": [
       "'sum of (5, 6, 10, 14, 5) is 40'"
      ]
     },
     "execution_count": 108,
     "metadata": {},
     "output_type": "execute_result"
    }
   ],
   "source": [
    "sum_of_list(5,6,10,14,5)"
   ]
  },
  {
   "cell_type": "markdown",
   "id": "734ff182-c849-48f3-bda7-9c0ade31169d",
   "metadata": {},
   "source": [
    "# Create a function to check if a word is a palindrome."
   ]
  },
  {
   "cell_type": "code",
   "execution_count": null,
   "id": "020360c1-9494-4709-a0da-27ee7a62fcc9",
   "metadata": {},
   "outputs": [],
   "source": []
  }
 ],
 "metadata": {
  "kernelspec": {
   "display_name": "Python 3 (ipykernel)",
   "language": "python",
   "name": "python3"
  },
  "language_info": {
   "codemirror_mode": {
    "name": "ipython",
    "version": 3
   },
   "file_extension": ".py",
   "mimetype": "text/x-python",
   "name": "python",
   "nbconvert_exporter": "python",
   "pygments_lexer": "ipython3",
   "version": "3.12.5"
  }
 },
 "nbformat": 4,
 "nbformat_minor": 5
}
