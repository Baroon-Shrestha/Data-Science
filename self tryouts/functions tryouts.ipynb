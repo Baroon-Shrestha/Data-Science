{
 "cells": [
  {
   "cell_type": "code",
   "execution_count": null,
   "id": "13265c74-67ab-4bf8-98fc-5e2e8f157e1d",
   "metadata": {},
   "outputs": [],
   "source": [
    "def addition(*args):\n",
    "    \"\"\"\n",
    "    takes any number of parameters as input\n",
    "\n",
    "    loops through the iterable variable\n",
    "\n",
    "    parameters(args) (interalbe data)\n",
    "\n",
    "    returns the sum of the data\n",
    "    \"\"\"\n",
    "    sum = 0\n",
    "    for arg in args:\n",
    "        sum += arg\n",
    "    return sum"
   ]
  },
  {
   "cell_type": "code",
   "execution_count": 36,
   "id": "2fb4a125-540f-4bc8-858c-2e5e3cb9eee7",
   "metadata": {},
   "outputs": [
    {
     "name": "stdout",
     "output_type": "stream",
     "text": [
      "(1, 2, 3, 4, 5)\n"
     ]
    },
    {
     "data": {
      "text/plain": [
       "15"
      ]
     },
     "execution_count": 36,
     "metadata": {},
     "output_type": "execute_result"
    }
   ],
   "source": [
    "addition(1,2,3,4,5)"
   ]
  },
  {
   "cell_type": "markdown",
   "id": "8d10bafe-9322-4df9-8210-87f424f019da",
   "metadata": {},
   "source": [
    "Write a function to find the maximum of three numbers.\n",
    "Create a function max_of_three(a, b, c) that returns the largest of three numbers."
   ]
  },
  {
   "cell_type": "code",
   "execution_count": 42,
   "id": "413add88-f30c-4c15-8da9-3e6457561f36",
   "metadata": {},
   "outputs": [],
   "source": [
    "def max_of_three(a,b,c):\n",
    "    \"\"\"\n",
    "    gives the largest number an\n",
    "    \"\"\"\n",
    "    if(a>b) and (a>c):\n",
    "        output = f\"a = {a} is the greatest\"\n",
    "        return output\n",
    "    elif (b>a) and (b>c):\n",
    "        output = f\"b = {b} is the greatest\"\n",
    "        return output\n",
    "    else:\n",
    "        output = f\"c = {c} is the greatest\"\n",
    "        return output"
   ]
  },
  {
   "cell_type": "code",
   "execution_count": 43,
   "id": "d3a7f84e-4ce7-4149-ae71-2415f184c40c",
   "metadata": {},
   "outputs": [
    {
     "data": {
      "text/plain": [
       "'b = 10 is the greatest'"
      ]
     },
     "execution_count": 43,
     "metadata": {},
     "output_type": "execute_result"
    }
   ],
   "source": [
    "max_of_three(1,10,3)"
   ]
  },
  {
   "cell_type": "code",
   "execution_count": null,
   "id": "7f15d465-dda4-436e-bbc9-362e35f3e43f",
   "metadata": {},
   "outputs": [],
   "source": []
  }
 ],
 "metadata": {
  "kernelspec": {
   "display_name": "Python 3 (ipykernel)",
   "language": "python",
   "name": "python3"
  },
  "language_info": {
   "codemirror_mode": {
    "name": "ipython",
    "version": 3
   },
   "file_extension": ".py",
   "mimetype": "text/x-python",
   "name": "python",
   "nbconvert_exporter": "python",
   "pygments_lexer": "ipython3",
   "version": "3.12.5"
  }
 },
 "nbformat": 4,
 "nbformat_minor": 5
}
